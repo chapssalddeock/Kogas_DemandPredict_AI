{
 "cells": [
  {
   "cell_type": "code",
   "execution_count": 1,
   "metadata": {
    "id": "YuhaZLxeHlm9"
   },
   "outputs": [],
   "source": [
    "import pandas as pd\n",
    "import numpy as np\n",
    "import matplotlib.pyplot as plt\n",
    "from glob import glob\n",
    "import warnings\n",
    "warnings.filterwarnings('ignore')"
   ]
  },
  {
   "cell_type": "code",
   "execution_count": 2,
   "metadata": {
    "id": "oO33yoaSHmcg"
   },
   "outputs": [],
   "source": [
    "from urllib.request import urlopen\n",
    "from urllib.request import Request \n",
    "from urllib.parse import urlencode, quote_plus\n",
    "\n",
    "import urllib.request as ul\n",
    "import xmltodict\n",
    "import json\n",
    "import sys\n",
    "import io"
   ]
  },
  {
   "cell_type": "code",
   "execution_count": 3,
   "metadata": {
    "id": "1muBWr77Hnna"
   },
   "outputs": [],
   "source": [
    "import requests"
   ]
  },
  {
   "cell_type": "code",
   "execution_count": 4,
   "metadata": {
    "id": "QVDXWekkHu8j"
   },
   "outputs": [],
   "source": [
    "from datetime import datetime\n",
    "start = pd.to_datetime('20130101')\n",
    "end=pd.to_datetime('20190331')\n",
    "df=pd.DataFrame(columns=['연월일'])\n",
    "df['연월일']=pd.date_range(start, end,freq='D')"
   ]
  },
  {
   "cell_type": "code",
   "execution_count": 5,
   "metadata": {
    "colab": {
     "base_uri": "https://localhost:8080/",
     "height": 424
    },
    "id": "U1O8K6Z8HvDW",
    "outputId": "96bce82f-9123-4f9c-b49d-5bbb403fefe7"
   },
   "outputs": [
    {
     "data": {
      "text/html": [
       "<div>\n",
       "<style scoped>\n",
       "    .dataframe tbody tr th:only-of-type {\n",
       "        vertical-align: middle;\n",
       "    }\n",
       "\n",
       "    .dataframe tbody tr th {\n",
       "        vertical-align: top;\n",
       "    }\n",
       "\n",
       "    .dataframe thead th {\n",
       "        text-align: right;\n",
       "    }\n",
       "</style>\n",
       "<table border=\"1\" class=\"dataframe\">\n",
       "  <thead>\n",
       "    <tr style=\"text-align: right;\">\n",
       "      <th></th>\n",
       "      <th>연월일</th>\n",
       "    </tr>\n",
       "  </thead>\n",
       "  <tbody>\n",
       "    <tr>\n",
       "      <th>0</th>\n",
       "      <td>2013-01-01</td>\n",
       "    </tr>\n",
       "    <tr>\n",
       "      <th>1</th>\n",
       "      <td>2013-01-02</td>\n",
       "    </tr>\n",
       "    <tr>\n",
       "      <th>2</th>\n",
       "      <td>2013-01-03</td>\n",
       "    </tr>\n",
       "    <tr>\n",
       "      <th>3</th>\n",
       "      <td>2013-01-04</td>\n",
       "    </tr>\n",
       "    <tr>\n",
       "      <th>4</th>\n",
       "      <td>2013-01-05</td>\n",
       "    </tr>\n",
       "    <tr>\n",
       "      <th>...</th>\n",
       "      <td>...</td>\n",
       "    </tr>\n",
       "    <tr>\n",
       "      <th>2276</th>\n",
       "      <td>2019-03-27</td>\n",
       "    </tr>\n",
       "    <tr>\n",
       "      <th>2277</th>\n",
       "      <td>2019-03-28</td>\n",
       "    </tr>\n",
       "    <tr>\n",
       "      <th>2278</th>\n",
       "      <td>2019-03-29</td>\n",
       "    </tr>\n",
       "    <tr>\n",
       "      <th>2279</th>\n",
       "      <td>2019-03-30</td>\n",
       "    </tr>\n",
       "    <tr>\n",
       "      <th>2280</th>\n",
       "      <td>2019-03-31</td>\n",
       "    </tr>\n",
       "  </tbody>\n",
       "</table>\n",
       "<p>2281 rows × 1 columns</p>\n",
       "</div>"
      ],
      "text/plain": [
       "            연월일\n",
       "0    2013-01-01\n",
       "1    2013-01-02\n",
       "2    2013-01-03\n",
       "3    2013-01-04\n",
       "4    2013-01-05\n",
       "...         ...\n",
       "2276 2019-03-27\n",
       "2277 2019-03-28\n",
       "2278 2019-03-29\n",
       "2279 2019-03-30\n",
       "2280 2019-03-31\n",
       "\n",
       "[2281 rows x 1 columns]"
      ]
     },
     "execution_count": 5,
     "metadata": {},
     "output_type": "execute_result"
    }
   ],
   "source": [
    "df"
   ]
  },
  {
   "cell_type": "code",
   "execution_count": 6,
   "metadata": {
    "id": "myaPSsSNHvLg"
   },
   "outputs": [],
   "source": [
    "def make_locdate(x):\n",
    "    Y, M, D = x.split('-')\n",
    "    return Y+M+D"
   ]
  },
  {
   "cell_type": "code",
   "execution_count": 7,
   "metadata": {
    "colab": {
     "base_uri": "https://localhost:8080/"
    },
    "id": "tov3B3y8NgeM",
    "outputId": "675ad1c7-1eac-4989-df64-d81eed7bab14"
   },
   "outputs": [
    {
     "name": "stdout",
     "output_type": "stream",
     "text": [
      "<class 'pandas.core.frame.DataFrame'>\n",
      "RangeIndex: 2281 entries, 0 to 2280\n",
      "Data columns (total 1 columns):\n",
      " #   Column  Non-Null Count  Dtype \n",
      "---  ------  --------------  ----- \n",
      " 0   연월일     2281 non-null   object\n",
      "dtypes: object(1)\n",
      "memory usage: 17.9+ KB\n"
     ]
    }
   ],
   "source": [
    "df['연월일']=df['연월일'].astype(str)\n",
    "df.info()"
   ]
  },
  {
   "cell_type": "code",
   "execution_count": 8,
   "metadata": {
    "colab": {
     "base_uri": "https://localhost:8080/",
     "height": 424
    },
    "id": "4ZRBlfyMHqQ4",
    "outputId": "1157fc0a-9170-4dc1-d41e-80f88646d50b",
    "scrolled": true
   },
   "outputs": [
    {
     "data": {
      "text/html": [
       "<div>\n",
       "<style scoped>\n",
       "    .dataframe tbody tr th:only-of-type {\n",
       "        vertical-align: middle;\n",
       "    }\n",
       "\n",
       "    .dataframe tbody tr th {\n",
       "        vertical-align: top;\n",
       "    }\n",
       "\n",
       "    .dataframe thead th {\n",
       "        text-align: right;\n",
       "    }\n",
       "</style>\n",
       "<table border=\"1\" class=\"dataframe\">\n",
       "  <thead>\n",
       "    <tr style=\"text-align: right;\">\n",
       "      <th></th>\n",
       "      <th>연월일</th>\n",
       "      <th>locdate</th>\n",
       "    </tr>\n",
       "  </thead>\n",
       "  <tbody>\n",
       "    <tr>\n",
       "      <th>0</th>\n",
       "      <td>2013-01-01</td>\n",
       "      <td>20130101</td>\n",
       "    </tr>\n",
       "    <tr>\n",
       "      <th>1</th>\n",
       "      <td>2013-01-02</td>\n",
       "      <td>20130102</td>\n",
       "    </tr>\n",
       "    <tr>\n",
       "      <th>2</th>\n",
       "      <td>2013-01-03</td>\n",
       "      <td>20130103</td>\n",
       "    </tr>\n",
       "    <tr>\n",
       "      <th>3</th>\n",
       "      <td>2013-01-04</td>\n",
       "      <td>20130104</td>\n",
       "    </tr>\n",
       "    <tr>\n",
       "      <th>4</th>\n",
       "      <td>2013-01-05</td>\n",
       "      <td>20130105</td>\n",
       "    </tr>\n",
       "    <tr>\n",
       "      <th>...</th>\n",
       "      <td>...</td>\n",
       "      <td>...</td>\n",
       "    </tr>\n",
       "    <tr>\n",
       "      <th>2276</th>\n",
       "      <td>2019-03-27</td>\n",
       "      <td>20190327</td>\n",
       "    </tr>\n",
       "    <tr>\n",
       "      <th>2277</th>\n",
       "      <td>2019-03-28</td>\n",
       "      <td>20190328</td>\n",
       "    </tr>\n",
       "    <tr>\n",
       "      <th>2278</th>\n",
       "      <td>2019-03-29</td>\n",
       "      <td>20190329</td>\n",
       "    </tr>\n",
       "    <tr>\n",
       "      <th>2279</th>\n",
       "      <td>2019-03-30</td>\n",
       "      <td>20190330</td>\n",
       "    </tr>\n",
       "    <tr>\n",
       "      <th>2280</th>\n",
       "      <td>2019-03-31</td>\n",
       "      <td>20190331</td>\n",
       "    </tr>\n",
       "  </tbody>\n",
       "</table>\n",
       "<p>2281 rows × 2 columns</p>\n",
       "</div>"
      ],
      "text/plain": [
       "             연월일   locdate\n",
       "0     2013-01-01  20130101\n",
       "1     2013-01-02  20130102\n",
       "2     2013-01-03  20130103\n",
       "3     2013-01-04  20130104\n",
       "4     2013-01-05  20130105\n",
       "...          ...       ...\n",
       "2276  2019-03-27  20190327\n",
       "2277  2019-03-28  20190328\n",
       "2278  2019-03-29  20190329\n",
       "2279  2019-03-30  20190330\n",
       "2280  2019-03-31  20190331\n",
       "\n",
       "[2281 rows x 2 columns]"
      ]
     },
     "execution_count": 8,
     "metadata": {},
     "output_type": "execute_result"
    }
   ],
   "source": [
    "df['locdate'] = df['연월일'].apply(lambda x:make_locdate(x))\n",
    "df"
   ]
  },
  {
   "cell_type": "markdown",
   "metadata": {},
   "source": [
    "url = 'http://apis.data.go.kr/B090041/openapi/service/RiseSetInfoService/getAreaRiseSetInfo'\n",
    "\n",
    "params ={'serviceKey' : '0GE5dffPQ2w31OZOACOdSgFRQzPihrAaslHTL1WR8UajH2KJivTGQfGkmw8pCFaWIr9sG2Vh4YEuaRk4rvCgSg==', 'locdate' : '20220505', 'location' : '서울' }\n",
    "response = requests.get(url, params)\n",
    "resp = xmltodict.parse(response.text)\n",
    "resp"
   ]
  },
  {
   "cell_type": "code",
   "execution_count": null,
   "metadata": {
    "colab": {
     "base_uri": "https://localhost:8080/"
    },
    "id": "TEBfJ_rsHpKz",
    "outputId": "4d9a990b-42f6-45e2-abb9-fd53aa28333d"
   },
   "outputs": [],
   "source": [
    "url = 'http://apis.data.go.kr/B090041/openapi/service/RiseSetInfoService/getAreaRiseSetInfo'\n",
    "\n",
    "for i in range(0, df.shape[0]):\n",
    "    locdate = df.loc[i,'locdate']\n",
    "    params ={'serviceKey' : '개인정보모자이크==', 'locdate' : locdate, 'location' : '서울' }\n",
    "    response = requests.get(url, params)\n",
    "    resp = xmltodict.parse(response.text)\n",
    "    print(resp)\n",
    "    df.loc[i, 'sunrise'] = resp['response']['body']['items']['item']['sunrise']\n",
    "    df.loc[i, 'sunset'] = resp['response']['body']['items']['item']['sunset']\n",
    "    print(i)\n",
    "print('end')"
   ]
  },
  {
   "cell_type": "code",
   "execution_count": null,
   "metadata": {
    "colab": {
     "base_uri": "https://localhost:8080/",
     "height": 424
    },
    "id": "T4WNPmObOtKP",
    "outputId": "54e70ec2-ea3b-48e5-c04a-d737d5b40192"
   },
   "outputs": [],
   "source": [
    "df"
   ]
  },
  {
   "cell_type": "code",
   "execution_count": null,
   "metadata": {
    "id": "CHCAx0O9l7ww"
   },
   "outputs": [],
   "source": [
    "df['sunset'] = df['sunset'].astype(int)//100\n",
    "df['sunrise']= df['sunrise'].astype(int)//100"
   ]
  },
  {
   "cell_type": "code",
   "execution_count": null,
   "metadata": {
    "id": "Oi6hutNumjYU"
   },
   "outputs": [],
   "source": [
    "df['일사']= df[\"sunset\"] - df[\"sunrise\"]"
   ]
  },
  {
   "cell_type": "code",
   "execution_count": null,
   "metadata": {
    "id": "QDw0sNeopNGx"
   },
   "outputs": [],
   "source": [
    "df.rename(columns={'연월일':'date'}, inplace=True)"
   ]
  },
  {
   "cell_type": "code",
   "execution_count": null,
   "metadata": {
    "colab": {
     "base_uri": "https://localhost:8080/",
     "height": 424
    },
    "id": "h5WAxujFvlTi",
    "outputId": "ba40344f-d9ad-4c71-a20d-8b2c0a6cd4dc"
   },
   "outputs": [],
   "source": [
    "df2 = df[['date','sunrise','sunset','일사']]\n",
    "df2"
   ]
  },
  {
   "cell_type": "markdown",
   "metadata": {},
   "source": [
    "### 1. train 데이터(2013-01-01 ~ 2018-12-31)"
   ]
  },
  {
   "cell_type": "code",
   "execution_count": null,
   "metadata": {},
   "outputs": [],
   "source": [
    "start = df2['date']>='2013-01-01'\n",
    "end = df2['date']<='2018-12-31'\n",
    "train_일출일몰 = df2[start & end]\n",
    "train_일출일몰"
   ]
  },
  {
   "cell_type": "code",
   "execution_count": null,
   "metadata": {
    "id": "CkBvvEZqN4NR"
   },
   "outputs": [],
   "source": [
    "train_일출일몰.to_csv('./make_data/0C_train_일출일몰_예보.csv', index=False)"
   ]
  },
  {
   "cell_type": "markdown",
   "metadata": {},
   "source": [
    "### 2. test 데이터(2019-01-01 ~ 2019-03-31)"
   ]
  },
  {
   "cell_type": "code",
   "execution_count": null,
   "metadata": {},
   "outputs": [],
   "source": [
    "start2 = df2['date']>='2019-01-01'\n",
    "end2 = df2['date']<='2019-03-31'\n",
    "test_일출일몰 = df2[start2 & end2]\n",
    "test_일출일몰"
   ]
  },
  {
   "cell_type": "code",
   "execution_count": null,
   "metadata": {},
   "outputs": [],
   "source": [
    "test_일출일몰.to_csv('./make_data/0C_test_일출일몰_예보.csv', index=False)"
   ]
  }
 ],
 "metadata": {
  "colab": {
   "collapsed_sections": [],
   "name": "0_sun_api.ipynb",
   "provenance": []
  },
  "kernelspec": {
   "display_name": "Python 3",
   "language": "python",
   "name": "python3"
  },
  "language_info": {
   "codemirror_mode": {
    "name": "ipython",
    "version": 3
   },
   "file_extension": ".py",
   "mimetype": "text/x-python",
   "name": "python",
   "nbconvert_exporter": "python",
   "pygments_lexer": "ipython3",
   "version": "3.8.3"
  }
 },
 "nbformat": 4,
 "nbformat_minor": 4
}
