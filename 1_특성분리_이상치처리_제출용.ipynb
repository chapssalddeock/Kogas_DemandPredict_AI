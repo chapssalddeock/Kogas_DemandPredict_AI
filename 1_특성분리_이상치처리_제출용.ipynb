{
 "cells": [
  {
   "cell_type": "markdown",
   "metadata": {
    "id": "y10570OklFkI"
   },
   "source": [
    "# 사용 패키지"
   ]
  },
  {
   "cell_type": "code",
   "execution_count": 1,
   "metadata": {
    "id": "D1TQREm1lFkM"
   },
   "outputs": [],
   "source": [
    "import pandas as pd\n",
    "import numpy as np\n",
    "import matplotlib.pyplot as plt\n",
    "import seaborn as sns\n",
    "import lightgbm as lgb"
   ]
  },
  {
   "cell_type": "markdown",
   "metadata": {
    "id": "frwyb3l8lFkN"
   },
   "source": [
    "# 데이터 로드"
   ]
  },
  {
   "cell_type": "code",
   "execution_count": 2,
   "metadata": {
    "id": "eSSE0OcRlFkO"
   },
   "outputs": [],
   "source": [
    "total = pd.read_csv('./data/한국가스공사_시간별 공급량_20181231.csv', encoding='cp949')\n",
    "test = pd.read_csv(\"./data/test.csv\")"
   ]
  },
  {
   "cell_type": "markdown",
   "metadata": {
    "id": "yM6TpIhelFkP"
   },
   "source": [
    "# 전처리"
   ]
  },
  {
   "cell_type": "code",
   "execution_count": 3,
   "metadata": {
    "id": "Kc9nk8-nlFkQ"
   },
   "outputs": [],
   "source": [
    "# 구분(공급사)를 A~H를 0~6 까지 맵핑시킴 \n",
    "d_map = {} \n",
    "for i, d in enumerate(total['구분'].unique()):\n",
    "    d_map[d] = i\n",
    "total['구분'] = total['구분'].map(d_map)\n",
    "total['연월일'] = pd.to_datetime(total['연월일'])\n",
    "total['year'] = total['연월일'].dt.year\n",
    "total['month'] = total['연월일'].dt.month\n",
    "total['day'] = total['연월일'].dt.day\n",
    "total['weekday'] = total['연월일'].dt.weekday\n",
    "total['month_day'] = (total['month']*100) + total['day']\n",
    "total['year_month_day'] = (total['year']*10000)+(total['month']*100) + total['day']\n",
    "\n",
    "total.columns= ['date','time','s_chain','s_qty','year','month','day','weekday','month_day','year_month_day']\n",
    "#total"
   ]
  },
  {
   "cell_type": "code",
   "execution_count": 4,
   "metadata": {},
   "outputs": [],
   "source": [
    "test['date'] = test['일자|시간|구분'].str.split(' ').str[0]\n",
    "test['time'] = test['일자|시간|구분'].str.split(' ').str[1].astype(int)\n",
    "test['s_chain'] = test['일자|시간|구분'].str.split(' ').str[2]\n",
    "test['date'] = pd.to_datetime(test['date'])\n",
    "test['year'] = test['date'].dt.year\n",
    "test['month'] = test['date'].dt.month\n",
    "test['day'] = test['date'].dt.day\n",
    "test['weekday'] = test['date'].dt.weekday\n",
    "test['month_day'] = (test['month']*100) + test['day']\n",
    "\n",
    "d_map = {} \n",
    "for i, d in enumerate(test['s_chain'].unique()):\n",
    "    d_map[d] = i\n",
    "test['s_chain'] = test['s_chain'].map(d_map)\n",
    "\n",
    "test.columns= ['일시구','date','time','s_chain','year','month','day','weekday','month_day']\n",
    "#test"
   ]
  },
  {
   "cell_type": "markdown",
   "metadata": {},
   "source": [
    "### 전체에서 이상치 제외하고 평균을 낸 후 대체하는 코드"
   ]
  },
  {
   "cell_type": "code",
   "execution_count": 5,
   "metadata": {},
   "outputs": [],
   "source": [
    "h_thres = 7000\n",
    "l_thres = 10\n",
    "\n",
    "strange_total = total[(total.s_qty <= l_thres)|(total.s_qty >= h_thres)]\n",
    "#strange_total"
   ]
  },
  {
   "cell_type": "code",
   "execution_count": 6,
   "metadata": {},
   "outputs": [],
   "source": [
    "lower_idx = total[total.s_qty <= l_thres].index\n",
    "upper_idx = total[total.s_qty >= h_thres].index\n",
    "del_idx = lower_idx.append(upper_idx)\n",
    "total_ex_strange = total.drop(index=(del_idx))\n",
    "#total_ex_strange"
   ]
  },
  {
   "cell_type": "code",
   "execution_count": 7,
   "metadata": {},
   "outputs": [],
   "source": [
    "total_group_by = total_ex_strange.groupby(['month','day','time','s_chain']).mean()\n",
    "#total_group_by"
   ]
  },
  {
   "cell_type": "code",
   "execution_count": 8,
   "metadata": {},
   "outputs": [],
   "source": [
    "for i in strange_total.index:\n",
    "    total.loc[i,'s_qty'] = total_group_by.loc[(strange_total.loc[i,'month'], strange_total.loc[i,'day'], strange_total.loc[i,'time'], strange_total.loc[i,'s_chain']), 's_qty']\n",
    "    "
   ]
  },
  {
   "cell_type": "markdown",
   "metadata": {},
   "source": [
    "### train, test 파일 공휴일 추가"
   ]
  },
  {
   "cell_type": "code",
   "execution_count": 9,
   "metadata": {},
   "outputs": [],
   "source": [
    "holy = pd.read_csv('./make_data/0A_holiday.csv')\n",
    "\n",
    "holy['holi'] = holy['holi'].astype('int')\n",
    "holy.loc[(holy['dayname']==1)|(holy['holi']==1), 'no_working'] = 1\n",
    "holy['no_working'].fillna(0, inplace=True)\n",
    "\n",
    "holy2 = holy[['date', 'no_working']]\n",
    "#holy2"
   ]
  },
  {
   "cell_type": "code",
   "execution_count": 10,
   "metadata": {
    "tags": []
   },
   "outputs": [],
   "source": [
    "total['date'] = total['date'].astype(str)\n",
    "train_df = pd.merge(total, holy2, how='left', on='date')\n",
    "#gas_df"
   ]
  },
  {
   "cell_type": "code",
   "execution_count": 11,
   "metadata": {},
   "outputs": [],
   "source": [
    "test['date'] = test['date'].astype('str')\n",
    "test_df = pd.merge(test, holy2, how='left', on='date') #no_working 데이터 merge"
   ]
  },
  {
   "cell_type": "markdown",
   "metadata": {},
   "source": [
    "### train test 파일 음력 월,일 추가 "
   ]
  },
  {
   "cell_type": "code",
   "execution_count": 12,
   "metadata": {},
   "outputs": [],
   "source": [
    "lun_df = pd.read_csv(\"./make_data/0B_음력날짜.csv\")\n",
    "lun_df2 = lun_df[['lunMonth','lunDay','date']]\n",
    "train_df2 = pd.merge(train_df, lun_df2, how='left', on='date')\n",
    "test_df2 = pd.merge(test_df, lun_df2, how='left', on='date')"
   ]
  },
  {
   "cell_type": "markdown",
   "metadata": {},
   "source": [
    "### train 파일 관측 온도 추가"
   ]
  },
  {
   "cell_type": "code",
   "execution_count": 13,
   "metadata": {},
   "outputs": [],
   "source": [
    "train_temp = pd.read_csv(\"./make_data/0D_train_temp_서울.csv\") "
   ]
  },
  {
   "cell_type": "code",
   "execution_count": 14,
   "metadata": {},
   "outputs": [
    {
     "data": {
      "text/html": [
       "<div>\n",
       "<style scoped>\n",
       "    .dataframe tbody tr th:only-of-type {\n",
       "        vertical-align: middle;\n",
       "    }\n",
       "\n",
       "    .dataframe tbody tr th {\n",
       "        vertical-align: top;\n",
       "    }\n",
       "\n",
       "    .dataframe thead th {\n",
       "        text-align: right;\n",
       "    }\n",
       "</style>\n",
       "<table border=\"1\" class=\"dataframe\">\n",
       "  <thead>\n",
       "    <tr style=\"text-align: right;\">\n",
       "      <th></th>\n",
       "      <th>date</th>\n",
       "      <th>temp</th>\n",
       "    </tr>\n",
       "  </thead>\n",
       "  <tbody>\n",
       "    <tr>\n",
       "      <th>0</th>\n",
       "      <td>2013-01-01 00:00</td>\n",
       "      <td>-8.3</td>\n",
       "    </tr>\n",
       "    <tr>\n",
       "      <th>1</th>\n",
       "      <td>2013-01-01 01:00</td>\n",
       "      <td>-8.5</td>\n",
       "    </tr>\n",
       "    <tr>\n",
       "      <th>2</th>\n",
       "      <td>2013-01-01 02:00</td>\n",
       "      <td>-8.4</td>\n",
       "    </tr>\n",
       "    <tr>\n",
       "      <th>3</th>\n",
       "      <td>2013-01-01 03:00</td>\n",
       "      <td>-8.1</td>\n",
       "    </tr>\n",
       "    <tr>\n",
       "      <th>4</th>\n",
       "      <td>2013-01-01 04:00</td>\n",
       "      <td>-8.2</td>\n",
       "    </tr>\n",
       "    <tr>\n",
       "      <th>...</th>\n",
       "      <td>...</td>\n",
       "      <td>...</td>\n",
       "    </tr>\n",
       "    <tr>\n",
       "      <th>52579</th>\n",
       "      <td>2018-12-31 19:00</td>\n",
       "      <td>-3.1</td>\n",
       "    </tr>\n",
       "    <tr>\n",
       "      <th>52580</th>\n",
       "      <td>2018-12-31 20:00</td>\n",
       "      <td>-3.7</td>\n",
       "    </tr>\n",
       "    <tr>\n",
       "      <th>52581</th>\n",
       "      <td>2018-12-31 21:00</td>\n",
       "      <td>-4.6</td>\n",
       "    </tr>\n",
       "    <tr>\n",
       "      <th>52582</th>\n",
       "      <td>2018-12-31 22:00</td>\n",
       "      <td>-5.4</td>\n",
       "    </tr>\n",
       "    <tr>\n",
       "      <th>52583</th>\n",
       "      <td>2018-12-31 23:00</td>\n",
       "      <td>-5.2</td>\n",
       "    </tr>\n",
       "  </tbody>\n",
       "</table>\n",
       "<p>52584 rows × 2 columns</p>\n",
       "</div>"
      ],
      "text/plain": [
       "                   date  temp\n",
       "0      2013-01-01 00:00  -8.3\n",
       "1      2013-01-01 01:00  -8.5\n",
       "2      2013-01-01 02:00  -8.4\n",
       "3      2013-01-01 03:00  -8.1\n",
       "4      2013-01-01 04:00  -8.2\n",
       "...                 ...   ...\n",
       "52579  2018-12-31 19:00  -3.1\n",
       "52580  2018-12-31 20:00  -3.7\n",
       "52581  2018-12-31 21:00  -4.6\n",
       "52582  2018-12-31 22:00  -5.4\n",
       "52583  2018-12-31 23:00  -5.2\n",
       "\n",
       "[52584 rows x 2 columns]"
      ]
     },
     "execution_count": 14,
     "metadata": {},
     "output_type": "execute_result"
    }
   ],
   "source": [
    "train_temp"
   ]
  },
  {
   "cell_type": "code",
   "execution_count": 15,
   "metadata": {},
   "outputs": [],
   "source": [
    "train_temp['time']= train_temp['date'].str[11:13].astype(int)+1\n",
    "train_temp['time'] = train_temp['time'].astype(int)\n",
    "train_temp['date']= train_temp['date'].str[:10]\n",
    "#train_temp"
   ]
  },
  {
   "cell_type": "code",
   "execution_count": 16,
   "metadata": {},
   "outputs": [
    {
     "data": {
      "text/html": [
       "<div>\n",
       "<style scoped>\n",
       "    .dataframe tbody tr th:only-of-type {\n",
       "        vertical-align: middle;\n",
       "    }\n",
       "\n",
       "    .dataframe tbody tr th {\n",
       "        vertical-align: top;\n",
       "    }\n",
       "\n",
       "    .dataframe thead th {\n",
       "        text-align: right;\n",
       "    }\n",
       "</style>\n",
       "<table border=\"1\" class=\"dataframe\">\n",
       "  <thead>\n",
       "    <tr style=\"text-align: right;\">\n",
       "      <th></th>\n",
       "      <th>date</th>\n",
       "      <th>time</th>\n",
       "      <th>s_chain</th>\n",
       "      <th>s_qty</th>\n",
       "      <th>year</th>\n",
       "      <th>month</th>\n",
       "      <th>day</th>\n",
       "      <th>weekday</th>\n",
       "      <th>month_day</th>\n",
       "      <th>year_month_day</th>\n",
       "      <th>no_working</th>\n",
       "      <th>lunMonth</th>\n",
       "      <th>lunDay</th>\n",
       "      <th>temp</th>\n",
       "    </tr>\n",
       "  </thead>\n",
       "  <tbody>\n",
       "    <tr>\n",
       "      <th>0</th>\n",
       "      <td>2013-01-01</td>\n",
       "      <td>1</td>\n",
       "      <td>0</td>\n",
       "      <td>2497.129</td>\n",
       "      <td>2013</td>\n",
       "      <td>1</td>\n",
       "      <td>1</td>\n",
       "      <td>1</td>\n",
       "      <td>101</td>\n",
       "      <td>20130101</td>\n",
       "      <td>1.0</td>\n",
       "      <td>11</td>\n",
       "      <td>20</td>\n",
       "      <td>-8.3</td>\n",
       "    </tr>\n",
       "    <tr>\n",
       "      <th>1</th>\n",
       "      <td>2013-01-01</td>\n",
       "      <td>2</td>\n",
       "      <td>0</td>\n",
       "      <td>2363.265</td>\n",
       "      <td>2013</td>\n",
       "      <td>1</td>\n",
       "      <td>1</td>\n",
       "      <td>1</td>\n",
       "      <td>101</td>\n",
       "      <td>20130101</td>\n",
       "      <td>1.0</td>\n",
       "      <td>11</td>\n",
       "      <td>20</td>\n",
       "      <td>-8.5</td>\n",
       "    </tr>\n",
       "    <tr>\n",
       "      <th>2</th>\n",
       "      <td>2013-01-01</td>\n",
       "      <td>3</td>\n",
       "      <td>0</td>\n",
       "      <td>2258.505</td>\n",
       "      <td>2013</td>\n",
       "      <td>1</td>\n",
       "      <td>1</td>\n",
       "      <td>1</td>\n",
       "      <td>101</td>\n",
       "      <td>20130101</td>\n",
       "      <td>1.0</td>\n",
       "      <td>11</td>\n",
       "      <td>20</td>\n",
       "      <td>-8.4</td>\n",
       "    </tr>\n",
       "    <tr>\n",
       "      <th>3</th>\n",
       "      <td>2013-01-01</td>\n",
       "      <td>4</td>\n",
       "      <td>0</td>\n",
       "      <td>2243.969</td>\n",
       "      <td>2013</td>\n",
       "      <td>1</td>\n",
       "      <td>1</td>\n",
       "      <td>1</td>\n",
       "      <td>101</td>\n",
       "      <td>20130101</td>\n",
       "      <td>1.0</td>\n",
       "      <td>11</td>\n",
       "      <td>20</td>\n",
       "      <td>-8.1</td>\n",
       "    </tr>\n",
       "    <tr>\n",
       "      <th>4</th>\n",
       "      <td>2013-01-01</td>\n",
       "      <td>5</td>\n",
       "      <td>0</td>\n",
       "      <td>2344.105</td>\n",
       "      <td>2013</td>\n",
       "      <td>1</td>\n",
       "      <td>1</td>\n",
       "      <td>1</td>\n",
       "      <td>101</td>\n",
       "      <td>20130101</td>\n",
       "      <td>1.0</td>\n",
       "      <td>11</td>\n",
       "      <td>20</td>\n",
       "      <td>-8.2</td>\n",
       "    </tr>\n",
       "    <tr>\n",
       "      <th>...</th>\n",
       "      <td>...</td>\n",
       "      <td>...</td>\n",
       "      <td>...</td>\n",
       "      <td>...</td>\n",
       "      <td>...</td>\n",
       "      <td>...</td>\n",
       "      <td>...</td>\n",
       "      <td>...</td>\n",
       "      <td>...</td>\n",
       "      <td>...</td>\n",
       "      <td>...</td>\n",
       "      <td>...</td>\n",
       "      <td>...</td>\n",
       "      <td>...</td>\n",
       "    </tr>\n",
       "    <tr>\n",
       "      <th>368083</th>\n",
       "      <td>2018-12-31</td>\n",
       "      <td>20</td>\n",
       "      <td>6</td>\n",
       "      <td>681.033</td>\n",
       "      <td>2018</td>\n",
       "      <td>12</td>\n",
       "      <td>31</td>\n",
       "      <td>0</td>\n",
       "      <td>1231</td>\n",
       "      <td>20181231</td>\n",
       "      <td>0.0</td>\n",
       "      <td>11</td>\n",
       "      <td>25</td>\n",
       "      <td>-3.1</td>\n",
       "    </tr>\n",
       "    <tr>\n",
       "      <th>368084</th>\n",
       "      <td>2018-12-31</td>\n",
       "      <td>21</td>\n",
       "      <td>6</td>\n",
       "      <td>669.961</td>\n",
       "      <td>2018</td>\n",
       "      <td>12</td>\n",
       "      <td>31</td>\n",
       "      <td>0</td>\n",
       "      <td>1231</td>\n",
       "      <td>20181231</td>\n",
       "      <td>0.0</td>\n",
       "      <td>11</td>\n",
       "      <td>25</td>\n",
       "      <td>-3.7</td>\n",
       "    </tr>\n",
       "    <tr>\n",
       "      <th>368085</th>\n",
       "      <td>2018-12-31</td>\n",
       "      <td>22</td>\n",
       "      <td>6</td>\n",
       "      <td>657.941</td>\n",
       "      <td>2018</td>\n",
       "      <td>12</td>\n",
       "      <td>31</td>\n",
       "      <td>0</td>\n",
       "      <td>1231</td>\n",
       "      <td>20181231</td>\n",
       "      <td>0.0</td>\n",
       "      <td>11</td>\n",
       "      <td>25</td>\n",
       "      <td>-4.6</td>\n",
       "    </tr>\n",
       "    <tr>\n",
       "      <th>368086</th>\n",
       "      <td>2018-12-31</td>\n",
       "      <td>23</td>\n",
       "      <td>6</td>\n",
       "      <td>610.953</td>\n",
       "      <td>2018</td>\n",
       "      <td>12</td>\n",
       "      <td>31</td>\n",
       "      <td>0</td>\n",
       "      <td>1231</td>\n",
       "      <td>20181231</td>\n",
       "      <td>0.0</td>\n",
       "      <td>11</td>\n",
       "      <td>25</td>\n",
       "      <td>-5.4</td>\n",
       "    </tr>\n",
       "    <tr>\n",
       "      <th>368087</th>\n",
       "      <td>2018-12-31</td>\n",
       "      <td>24</td>\n",
       "      <td>6</td>\n",
       "      <td>560.896</td>\n",
       "      <td>2018</td>\n",
       "      <td>12</td>\n",
       "      <td>31</td>\n",
       "      <td>0</td>\n",
       "      <td>1231</td>\n",
       "      <td>20181231</td>\n",
       "      <td>0.0</td>\n",
       "      <td>11</td>\n",
       "      <td>25</td>\n",
       "      <td>-5.2</td>\n",
       "    </tr>\n",
       "  </tbody>\n",
       "</table>\n",
       "<p>368088 rows × 14 columns</p>\n",
       "</div>"
      ],
      "text/plain": [
       "              date  time  s_chain     s_qty  year  month  day  weekday  \\\n",
       "0       2013-01-01     1        0  2497.129  2013      1    1        1   \n",
       "1       2013-01-01     2        0  2363.265  2013      1    1        1   \n",
       "2       2013-01-01     3        0  2258.505  2013      1    1        1   \n",
       "3       2013-01-01     4        0  2243.969  2013      1    1        1   \n",
       "4       2013-01-01     5        0  2344.105  2013      1    1        1   \n",
       "...            ...   ...      ...       ...   ...    ...  ...      ...   \n",
       "368083  2018-12-31    20        6   681.033  2018     12   31        0   \n",
       "368084  2018-12-31    21        6   669.961  2018     12   31        0   \n",
       "368085  2018-12-31    22        6   657.941  2018     12   31        0   \n",
       "368086  2018-12-31    23        6   610.953  2018     12   31        0   \n",
       "368087  2018-12-31    24        6   560.896  2018     12   31        0   \n",
       "\n",
       "        month_day  year_month_day  no_working  lunMonth  lunDay  temp  \n",
       "0             101        20130101         1.0        11      20  -8.3  \n",
       "1             101        20130101         1.0        11      20  -8.5  \n",
       "2             101        20130101         1.0        11      20  -8.4  \n",
       "3             101        20130101         1.0        11      20  -8.1  \n",
       "4             101        20130101         1.0        11      20  -8.2  \n",
       "...           ...             ...         ...       ...     ...   ...  \n",
       "368083       1231        20181231         0.0        11      25  -3.1  \n",
       "368084       1231        20181231         0.0        11      25  -3.7  \n",
       "368085       1231        20181231         0.0        11      25  -4.6  \n",
       "368086       1231        20181231         0.0        11      25  -5.4  \n",
       "368087       1231        20181231         0.0        11      25  -5.2  \n",
       "\n",
       "[368088 rows x 14 columns]"
      ]
     },
     "execution_count": 16,
     "metadata": {},
     "output_type": "execute_result"
    }
   ],
   "source": [
    "train_df3 = pd.merge(train_df2, train_temp, how = 'left', on=['date','time'])\n",
    "train_df3"
   ]
  },
  {
   "cell_type": "markdown",
   "metadata": {},
   "source": [
    "### 절기 추가\n",
    "###### 입춘 음력  2월  3일\n",
    "###### 입하 음력  3월 24일\n",
    "###### 입추 음력  6월 29일\n",
    "###### 입동 음력 11월  7일"
   ]
  },
  {
   "cell_type": "code",
   "execution_count": 17,
   "metadata": {},
   "outputs": [],
   "source": [
    "train_df3['lun_month_day'] = (train_df3['lunMonth']*100) + train_df3['lunDay']\n",
    "test_df2['lun_month_day'] = (test_df2['lunMonth']*100) + test_df2['lunDay']"
   ]
  },
  {
   "cell_type": "code",
   "execution_count": 18,
   "metadata": {},
   "outputs": [],
   "source": [
    "def get_season(x):\n",
    "    if x < 203:\n",
    "        return 1\n",
    "    elif (x >= 203)&(x < 324):\n",
    "        return 2\n",
    "    elif (x >= 324)&(x < 629):\n",
    "        return 3\n",
    "    elif (x >= 629)&(x < 1107):\n",
    "        return 4\n",
    "    else:\n",
    "        return 1\n",
    "\n",
    "train_df3['season'] = train_df3['lun_month_day'].apply(get_season)\n",
    "test_df2['season'] = test_df2['lun_month_day'].apply(get_season)"
   ]
  },
  {
   "cell_type": "markdown",
   "metadata": {},
   "source": [
    "### train, test 파일 일출 일몰 추가"
   ]
  },
  {
   "cell_type": "code",
   "execution_count": 19,
   "metadata": {},
   "outputs": [],
   "source": [
    "train_sun = pd.read_csv(\"./make_data/0C_train_일출일몰_예보.csv\")\n",
    "test_sun = pd.read_csv(\"./make_data/0C_test_일출일몰_예보.csv\") #test 일사는 평균을 구해서 넣음\n",
    "\n",
    "train_sun = train_sun[['date','sunrise','sunset','일사']]"
   ]
  },
  {
   "cell_type": "code",
   "execution_count": 20,
   "metadata": {},
   "outputs": [],
   "source": [
    "train_df4 = pd.merge(train_df3, train_sun, how='left', on='date')\n",
    "test_df3 = pd.merge(test_df2, test_sun, how='left', on='date')"
   ]
  },
  {
   "cell_type": "code",
   "execution_count": 21,
   "metadata": {},
   "outputs": [],
   "source": [
    "#### 공급사 별로 슬라이싱해서 하는 부분 1~3월만\n",
    "\n",
    "# 1~3월만 뽑기\n",
    "gas_1to3 = train_df4[(train_df4.month==1)|(train_df4.month==2)|(train_df4.month==3)]\n",
    "\n",
    "#공급사별로 슬라이싱\n",
    "for i in gas_1to3['s_chain'].unique() :\n",
    "    globals()['df_{}'.format(i)] = gas_1to3[gas_1to3['s_chain']==i]"
   ]
  },
  {
   "cell_type": "code",
   "execution_count": 22,
   "metadata": {},
   "outputs": [],
   "source": [
    "#평균으로 대체하는 형식에 필요한 함수들\n",
    "\n",
    "def thres(df,h_thres,l_thres): #이상치를 뽑음\n",
    "    strange = pd.DataFrame()\n",
    "    strange = df[(df.s_qty <= l_thres)|(df.s_qty >= h_thres)]\n",
    "    return strange\n",
    "\n",
    "\n",
    "\n",
    "def index_del(df,h_thres,l_thres): #이상치 제외한걸 뽑음\n",
    "    lower_idx = df[df.s_qty <= l_thres].index\n",
    "    upper_idx = df[df.s_qty >= h_thres].index\n",
    "    del_idx = lower_idx.append(upper_idx)\n",
    "    ex_strange = df.drop(index=(del_idx))\n",
    "    \n",
    "    return ex_strange   \n",
    "\n",
    "\n",
    "\n",
    "def replace_strange(df_strange,df_group_by,total):\n",
    "    for i in df_strange.index:\n",
    "        total.loc[i,'s_qty'] = df_group_by.loc[(df_strange.loc[i,'month'], df_strange.loc[i,'day'], df_strange.loc[i,'time'], df_strange.loc[i,'s_chain']), 's_qty']\n",
    "    "
   ]
  },
  {
   "cell_type": "code",
   "execution_count": 23,
   "metadata": {},
   "outputs": [],
   "source": [
    "df1_strange = thres(df_1,4000,700)\n",
    "df1_ex_strange = index_del(df_1,4000,700)\n",
    "df1_group_by = df1_ex_strange.groupby(['month','day','time','s_chain']).mean()\n",
    "replace_strange(df1_strange,df1_group_by,train_df4)"
   ]
  },
  {
   "cell_type": "code",
   "execution_count": 24,
   "metadata": {},
   "outputs": [],
   "source": [
    "del_idx = train_df4[(train_df4.year_month_day>=20180123)&(train_df4.year_month_day<20180214)&(train_df4.s_chain==2)].index\n",
    "\n",
    "train_df4.drop(index=del_idx, inplace=True )"
   ]
  },
  {
   "cell_type": "code",
   "execution_count": 25,
   "metadata": {},
   "outputs": [],
   "source": [
    "df5_strange = thres(df_5,7000,1500)\n",
    "df5_ex_strange = index_del(df_5,7000,1500)\n",
    "df5_group_by = df5_ex_strange.groupby(['month','day','time','s_chain']).mean()\n",
    "replace_strange(df5_strange,df5_group_by,train_df4)"
   ]
  },
  {
   "cell_type": "code",
   "execution_count": 26,
   "metadata": {
    "tags": []
   },
   "outputs": [],
   "source": [
    "#2013\n",
    "chain6 = train_df4[(train_df4.year==2013)&(train_df4.s_chain==6)]\n",
    "chain6 = chain6[(chain6.month==10)] \n",
    "chain6 = chain6[chain6.s_qty > 600]"
   ]
  },
  {
   "cell_type": "code",
   "execution_count": 27,
   "metadata": {},
   "outputs": [],
   "source": [
    "idx = chain6.index\n",
    "chain6_ex_strange = train_df4.drop(index=(idx))"
   ]
  },
  {
   "cell_type": "code",
   "execution_count": 28,
   "metadata": {},
   "outputs": [],
   "source": [
    "chain6_group_by = chain6_ex_strange.groupby(['month','day','time','s_chain']).mean()"
   ]
  },
  {
   "cell_type": "code",
   "execution_count": 29,
   "metadata": {},
   "outputs": [],
   "source": [
    "for i in chain6.index:\n",
    "    train_df4.loc[i,'s_qty'] = chain6_group_by.loc[(chain6.loc[i,'month'], chain6.loc[i,'day'], chain6.loc[i,'time'], chain6.loc[i,'s_chain']), 's_qty']\n",
    "    "
   ]
  },
  {
   "cell_type": "code",
   "execution_count": 30,
   "metadata": {},
   "outputs": [],
   "source": [
    "#2015\n",
    "chain615 = train_df4[(train_df4.year==2015)&(train_df4.s_chain==6)]\n",
    "chain615 = chain615[(chain615.month==6)|(chain615.month==7)] \n",
    "chain615 = chain615[chain615.s_qty > 200]"
   ]
  },
  {
   "cell_type": "code",
   "execution_count": 31,
   "metadata": {},
   "outputs": [],
   "source": [
    "idx = chain615.index\n",
    "chain615_ex_strange = train_df4.drop(index=(idx))"
   ]
  },
  {
   "cell_type": "code",
   "execution_count": 32,
   "metadata": {},
   "outputs": [],
   "source": [
    "chain615_group_by = chain615_ex_strange.groupby(['month','day','time','s_chain']).mean()"
   ]
  },
  {
   "cell_type": "code",
   "execution_count": 33,
   "metadata": {},
   "outputs": [],
   "source": [
    "for i in chain615.index:\n",
    "    train_df4.loc[i,'s_qty'] = chain615_group_by.loc[(chain615.loc[i,'month'], chain615.loc[i,'day'], chain615.loc[i,'time'], chain615.loc[i,'s_chain']), 's_qty']\n",
    "    "
   ]
  },
  {
   "cell_type": "code",
   "execution_count": 34,
   "metadata": {},
   "outputs": [],
   "source": [
    "#2016 4월\n",
    "chain6_16_4 = train_df4[(train_df4.year==2016)&(train_df4.s_chain==6)] \n",
    "chain6_16_4 = chain6_16_4[chain6_16_4.s_qty > 850]"
   ]
  },
  {
   "cell_type": "code",
   "execution_count": 35,
   "metadata": {},
   "outputs": [],
   "source": [
    "idx = chain6_16_4.index\n",
    "chain6_16_4_ex_strange = train_df4.drop(index=(idx))"
   ]
  },
  {
   "cell_type": "code",
   "execution_count": 36,
   "metadata": {},
   "outputs": [],
   "source": [
    "chain6_16_4_group_by = chain6_16_4_ex_strange.groupby(['month','day','time','s_chain']).mean()"
   ]
  },
  {
   "cell_type": "code",
   "execution_count": 37,
   "metadata": {},
   "outputs": [],
   "source": [
    "for i in chain6_16_4.index:\n",
    "    train_df4.loc[i,'s_qty'] = chain6_16_4_group_by.loc[(chain6_16_4.loc[i,'month'], chain6_16_4.loc[i,'day'], chain6_16_4.loc[i,'time'], chain6_16_4.loc[i,'s_chain']), 's_qty']\n",
    "    "
   ]
  },
  {
   "cell_type": "code",
   "execution_count": 38,
   "metadata": {},
   "outputs": [],
   "source": [
    "#2016,2017\n",
    "chain66 = train_df4[(train_df4.year==2016)|(train_df4.year==2017)] \n",
    "chain66 = chain66[(chain66.s_chain==6)]\n",
    "chain66 = chain66[chain66.s_qty > 1000]"
   ]
  },
  {
   "cell_type": "code",
   "execution_count": 39,
   "metadata": {},
   "outputs": [],
   "source": [
    "idx = chain66.index\n",
    "chain66_ex_strange = train_df4.drop(index=(idx))"
   ]
  },
  {
   "cell_type": "code",
   "execution_count": 40,
   "metadata": {},
   "outputs": [],
   "source": [
    "chain66_group_by = chain66_ex_strange.groupby(['month','day','time','s_chain']).mean()"
   ]
  },
  {
   "cell_type": "code",
   "execution_count": 41,
   "metadata": {},
   "outputs": [],
   "source": [
    "for i in chain66.index:\n",
    "    train_df4.loc[i,'s_qty'] = chain66_group_by.loc[(chain66.loc[i,'month'], chain66.loc[i,'day'], chain66.loc[i,'time'], chain66.loc[i,'s_chain']), 's_qty']\n",
    "    "
   ]
  },
  {
   "cell_type": "code",
   "execution_count": 42,
   "metadata": {},
   "outputs": [
    {
     "data": {
      "text/html": [
       "<div>\n",
       "<style scoped>\n",
       "    .dataframe tbody tr th:only-of-type {\n",
       "        vertical-align: middle;\n",
       "    }\n",
       "\n",
       "    .dataframe tbody tr th {\n",
       "        vertical-align: top;\n",
       "    }\n",
       "\n",
       "    .dataframe thead th {\n",
       "        text-align: right;\n",
       "    }\n",
       "</style>\n",
       "<table border=\"1\" class=\"dataframe\">\n",
       "  <thead>\n",
       "    <tr style=\"text-align: right;\">\n",
       "      <th></th>\n",
       "      <th>date</th>\n",
       "      <th>time</th>\n",
       "      <th>s_chain</th>\n",
       "      <th>s_qty</th>\n",
       "      <th>year</th>\n",
       "      <th>month</th>\n",
       "      <th>day</th>\n",
       "      <th>weekday</th>\n",
       "      <th>month_day</th>\n",
       "      <th>year_month_day</th>\n",
       "      <th>no_working</th>\n",
       "      <th>lunMonth</th>\n",
       "      <th>lunDay</th>\n",
       "      <th>temp</th>\n",
       "      <th>lun_month_day</th>\n",
       "      <th>season</th>\n",
       "      <th>sunrise</th>\n",
       "      <th>sunset</th>\n",
       "      <th>일사</th>\n",
       "    </tr>\n",
       "  </thead>\n",
       "  <tbody>\n",
       "    <tr>\n",
       "      <th>0</th>\n",
       "      <td>2013-01-01</td>\n",
       "      <td>1</td>\n",
       "      <td>0</td>\n",
       "      <td>2497.129</td>\n",
       "      <td>2013</td>\n",
       "      <td>1</td>\n",
       "      <td>1</td>\n",
       "      <td>1</td>\n",
       "      <td>101</td>\n",
       "      <td>20130101</td>\n",
       "      <td>1.0</td>\n",
       "      <td>11</td>\n",
       "      <td>20</td>\n",
       "      <td>-8.3</td>\n",
       "      <td>1120</td>\n",
       "      <td>1</td>\n",
       "      <td>7</td>\n",
       "      <td>17</td>\n",
       "      <td>10</td>\n",
       "    </tr>\n",
       "    <tr>\n",
       "      <th>1</th>\n",
       "      <td>2013-01-01</td>\n",
       "      <td>2</td>\n",
       "      <td>0</td>\n",
       "      <td>2363.265</td>\n",
       "      <td>2013</td>\n",
       "      <td>1</td>\n",
       "      <td>1</td>\n",
       "      <td>1</td>\n",
       "      <td>101</td>\n",
       "      <td>20130101</td>\n",
       "      <td>1.0</td>\n",
       "      <td>11</td>\n",
       "      <td>20</td>\n",
       "      <td>-8.5</td>\n",
       "      <td>1120</td>\n",
       "      <td>1</td>\n",
       "      <td>7</td>\n",
       "      <td>17</td>\n",
       "      <td>10</td>\n",
       "    </tr>\n",
       "    <tr>\n",
       "      <th>2</th>\n",
       "      <td>2013-01-01</td>\n",
       "      <td>3</td>\n",
       "      <td>0</td>\n",
       "      <td>2258.505</td>\n",
       "      <td>2013</td>\n",
       "      <td>1</td>\n",
       "      <td>1</td>\n",
       "      <td>1</td>\n",
       "      <td>101</td>\n",
       "      <td>20130101</td>\n",
       "      <td>1.0</td>\n",
       "      <td>11</td>\n",
       "      <td>20</td>\n",
       "      <td>-8.4</td>\n",
       "      <td>1120</td>\n",
       "      <td>1</td>\n",
       "      <td>7</td>\n",
       "      <td>17</td>\n",
       "      <td>10</td>\n",
       "    </tr>\n",
       "    <tr>\n",
       "      <th>3</th>\n",
       "      <td>2013-01-01</td>\n",
       "      <td>4</td>\n",
       "      <td>0</td>\n",
       "      <td>2243.969</td>\n",
       "      <td>2013</td>\n",
       "      <td>1</td>\n",
       "      <td>1</td>\n",
       "      <td>1</td>\n",
       "      <td>101</td>\n",
       "      <td>20130101</td>\n",
       "      <td>1.0</td>\n",
       "      <td>11</td>\n",
       "      <td>20</td>\n",
       "      <td>-8.1</td>\n",
       "      <td>1120</td>\n",
       "      <td>1</td>\n",
       "      <td>7</td>\n",
       "      <td>17</td>\n",
       "      <td>10</td>\n",
       "    </tr>\n",
       "    <tr>\n",
       "      <th>4</th>\n",
       "      <td>2013-01-01</td>\n",
       "      <td>5</td>\n",
       "      <td>0</td>\n",
       "      <td>2344.105</td>\n",
       "      <td>2013</td>\n",
       "      <td>1</td>\n",
       "      <td>1</td>\n",
       "      <td>1</td>\n",
       "      <td>101</td>\n",
       "      <td>20130101</td>\n",
       "      <td>1.0</td>\n",
       "      <td>11</td>\n",
       "      <td>20</td>\n",
       "      <td>-8.2</td>\n",
       "      <td>1120</td>\n",
       "      <td>1</td>\n",
       "      <td>7</td>\n",
       "      <td>17</td>\n",
       "      <td>10</td>\n",
       "    </tr>\n",
       "    <tr>\n",
       "      <th>...</th>\n",
       "      <td>...</td>\n",
       "      <td>...</td>\n",
       "      <td>...</td>\n",
       "      <td>...</td>\n",
       "      <td>...</td>\n",
       "      <td>...</td>\n",
       "      <td>...</td>\n",
       "      <td>...</td>\n",
       "      <td>...</td>\n",
       "      <td>...</td>\n",
       "      <td>...</td>\n",
       "      <td>...</td>\n",
       "      <td>...</td>\n",
       "      <td>...</td>\n",
       "      <td>...</td>\n",
       "      <td>...</td>\n",
       "      <td>...</td>\n",
       "      <td>...</td>\n",
       "      <td>...</td>\n",
       "    </tr>\n",
       "    <tr>\n",
       "      <th>368083</th>\n",
       "      <td>2018-12-31</td>\n",
       "      <td>20</td>\n",
       "      <td>6</td>\n",
       "      <td>681.033</td>\n",
       "      <td>2018</td>\n",
       "      <td>12</td>\n",
       "      <td>31</td>\n",
       "      <td>0</td>\n",
       "      <td>1231</td>\n",
       "      <td>20181231</td>\n",
       "      <td>0.0</td>\n",
       "      <td>11</td>\n",
       "      <td>25</td>\n",
       "      <td>-3.1</td>\n",
       "      <td>1125</td>\n",
       "      <td>1</td>\n",
       "      <td>7</td>\n",
       "      <td>17</td>\n",
       "      <td>10</td>\n",
       "    </tr>\n",
       "    <tr>\n",
       "      <th>368084</th>\n",
       "      <td>2018-12-31</td>\n",
       "      <td>21</td>\n",
       "      <td>6</td>\n",
       "      <td>669.961</td>\n",
       "      <td>2018</td>\n",
       "      <td>12</td>\n",
       "      <td>31</td>\n",
       "      <td>0</td>\n",
       "      <td>1231</td>\n",
       "      <td>20181231</td>\n",
       "      <td>0.0</td>\n",
       "      <td>11</td>\n",
       "      <td>25</td>\n",
       "      <td>-3.7</td>\n",
       "      <td>1125</td>\n",
       "      <td>1</td>\n",
       "      <td>7</td>\n",
       "      <td>17</td>\n",
       "      <td>10</td>\n",
       "    </tr>\n",
       "    <tr>\n",
       "      <th>368085</th>\n",
       "      <td>2018-12-31</td>\n",
       "      <td>22</td>\n",
       "      <td>6</td>\n",
       "      <td>657.941</td>\n",
       "      <td>2018</td>\n",
       "      <td>12</td>\n",
       "      <td>31</td>\n",
       "      <td>0</td>\n",
       "      <td>1231</td>\n",
       "      <td>20181231</td>\n",
       "      <td>0.0</td>\n",
       "      <td>11</td>\n",
       "      <td>25</td>\n",
       "      <td>-4.6</td>\n",
       "      <td>1125</td>\n",
       "      <td>1</td>\n",
       "      <td>7</td>\n",
       "      <td>17</td>\n",
       "      <td>10</td>\n",
       "    </tr>\n",
       "    <tr>\n",
       "      <th>368086</th>\n",
       "      <td>2018-12-31</td>\n",
       "      <td>23</td>\n",
       "      <td>6</td>\n",
       "      <td>610.953</td>\n",
       "      <td>2018</td>\n",
       "      <td>12</td>\n",
       "      <td>31</td>\n",
       "      <td>0</td>\n",
       "      <td>1231</td>\n",
       "      <td>20181231</td>\n",
       "      <td>0.0</td>\n",
       "      <td>11</td>\n",
       "      <td>25</td>\n",
       "      <td>-5.4</td>\n",
       "      <td>1125</td>\n",
       "      <td>1</td>\n",
       "      <td>7</td>\n",
       "      <td>17</td>\n",
       "      <td>10</td>\n",
       "    </tr>\n",
       "    <tr>\n",
       "      <th>368087</th>\n",
       "      <td>2018-12-31</td>\n",
       "      <td>24</td>\n",
       "      <td>6</td>\n",
       "      <td>560.896</td>\n",
       "      <td>2018</td>\n",
       "      <td>12</td>\n",
       "      <td>31</td>\n",
       "      <td>0</td>\n",
       "      <td>1231</td>\n",
       "      <td>20181231</td>\n",
       "      <td>0.0</td>\n",
       "      <td>11</td>\n",
       "      <td>25</td>\n",
       "      <td>-5.2</td>\n",
       "      <td>1125</td>\n",
       "      <td>1</td>\n",
       "      <td>7</td>\n",
       "      <td>17</td>\n",
       "      <td>10</td>\n",
       "    </tr>\n",
       "  </tbody>\n",
       "</table>\n",
       "<p>367560 rows × 19 columns</p>\n",
       "</div>"
      ],
      "text/plain": [
       "              date  time  s_chain     s_qty  year  month  day  weekday  \\\n",
       "0       2013-01-01     1        0  2497.129  2013      1    1        1   \n",
       "1       2013-01-01     2        0  2363.265  2013      1    1        1   \n",
       "2       2013-01-01     3        0  2258.505  2013      1    1        1   \n",
       "3       2013-01-01     4        0  2243.969  2013      1    1        1   \n",
       "4       2013-01-01     5        0  2344.105  2013      1    1        1   \n",
       "...            ...   ...      ...       ...   ...    ...  ...      ...   \n",
       "368083  2018-12-31    20        6   681.033  2018     12   31        0   \n",
       "368084  2018-12-31    21        6   669.961  2018     12   31        0   \n",
       "368085  2018-12-31    22        6   657.941  2018     12   31        0   \n",
       "368086  2018-12-31    23        6   610.953  2018     12   31        0   \n",
       "368087  2018-12-31    24        6   560.896  2018     12   31        0   \n",
       "\n",
       "        month_day  year_month_day  no_working  lunMonth  lunDay  temp  \\\n",
       "0             101        20130101         1.0        11      20  -8.3   \n",
       "1             101        20130101         1.0        11      20  -8.5   \n",
       "2             101        20130101         1.0        11      20  -8.4   \n",
       "3             101        20130101         1.0        11      20  -8.1   \n",
       "4             101        20130101         1.0        11      20  -8.2   \n",
       "...           ...             ...         ...       ...     ...   ...   \n",
       "368083       1231        20181231         0.0        11      25  -3.1   \n",
       "368084       1231        20181231         0.0        11      25  -3.7   \n",
       "368085       1231        20181231         0.0        11      25  -4.6   \n",
       "368086       1231        20181231         0.0        11      25  -5.4   \n",
       "368087       1231        20181231         0.0        11      25  -5.2   \n",
       "\n",
       "        lun_month_day  season  sunrise  sunset  일사  \n",
       "0                1120       1        7      17  10  \n",
       "1                1120       1        7      17  10  \n",
       "2                1120       1        7      17  10  \n",
       "3                1120       1        7      17  10  \n",
       "4                1120       1        7      17  10  \n",
       "...               ...     ...      ...     ...  ..  \n",
       "368083           1125       1        7      17  10  \n",
       "368084           1125       1        7      17  10  \n",
       "368085           1125       1        7      17  10  \n",
       "368086           1125       1        7      17  10  \n",
       "368087           1125       1        7      17  10  \n",
       "\n",
       "[367560 rows x 19 columns]"
      ]
     },
     "execution_count": 42,
     "metadata": {},
     "output_type": "execute_result"
    }
   ],
   "source": [
    "train_df4"
   ]
  },
  {
   "cell_type": "code",
   "execution_count": 43,
   "metadata": {},
   "outputs": [],
   "source": [
    "train_df4.to_csv(\"./make_data/1_final_train.csv\",index=False)\n",
    "test_df3.to_csv(\"./make_data/1_final_test.csv\",index=False)"
   ]
  },
  {
   "cell_type": "markdown",
   "metadata": {},
   "source": [
    "# End \n",
    "============================================================================================"
   ]
  }
 ],
 "metadata": {
  "colab": {
   "collapsed_sections": [],
   "name": "kogas_EDA_이상치판별4.ipynb",
   "provenance": []
  },
  "kernelspec": {
   "display_name": "Python 3",
   "language": "python",
   "name": "python3"
  },
  "language_info": {
   "codemirror_mode": {
    "name": "ipython",
    "version": 3
   },
   "file_extension": ".py",
   "mimetype": "text/x-python",
   "name": "python",
   "nbconvert_exporter": "python",
   "pygments_lexer": "ipython3",
   "version": "3.8.3"
  }
 },
 "nbformat": 4,
 "nbformat_minor": 4
}
