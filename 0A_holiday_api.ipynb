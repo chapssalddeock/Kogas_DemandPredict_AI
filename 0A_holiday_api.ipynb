{
 "cells": [
  {
   "cell_type": "code",
   "execution_count": 1,
   "metadata": {
    "executionInfo": {
     "elapsed": 3,
     "status": "ok",
     "timestamp": 1638624485365,
     "user": {
      "displayName": "김가영",
      "photoUrl": "https://lh3.googleusercontent.com/a/default-user=s64",
      "userId": "16356263383297157000"
     },
     "user_tz": -540
    },
    "id": "cfdHZDP7PnOT"
   },
   "outputs": [],
   "source": [
    "import matplotlib.pyplot as plt\n",
    "import pandas as pd\n",
    "import numpy as np\n",
    "import warnings\n",
    "warnings.filterwarnings('ignore')"
   ]
  },
  {
   "cell_type": "code",
   "execution_count": null,
   "metadata": {
    "colab": {
     "base_uri": "https://localhost:8080/"
    },
    "executionInfo": {
     "elapsed": 41734,
     "status": "ok",
     "timestamp": 1638624528533,
     "user": {
      "displayName": "김가영",
      "photoUrl": "https://lh3.googleusercontent.com/a/default-user=s64",
      "userId": "16356263383297157000"
     },
     "user_tz": -540
    },
    "id": "wZthDsVJPnOY",
    "outputId": "3e75ee84-fae3-4146-c976-ac23176502dd"
   },
   "outputs": [],
   "source": [
    "# 공휴일 API로 2013~2019.03.31 공휴일 데이터 받아오기 \n",
    "import requests\n",
    "from bs4 import BeautifulSoup\n",
    "import time\n",
    "import datetime\n",
    "\n",
    "def get_request_query(url, operation, params, serviceKey):\n",
    "    import urllib.parse as urlparse\n",
    "    params = urlparse.urlencode(params)\n",
    "    request_query = url + '/' + operation + '?' + params + '&' + 'serviceKey' + '=' + serviceKey\n",
    "    return request_query\n",
    "\n",
    "# url 불러오기\n",
    "URL = 'http://apis.data.go.kr/B090041/openapi/service/SpcdeInfoService'\n",
    "OPERATION = 'getHoliDeInfo' \n",
    "\n",
    "# 서비스키 입력\n",
    "SERVICEKEY = \"개인정보 모자이크\"\n",
    "def year_month(year, month):\n",
    "    solYear  = str(year)  \n",
    "    if month >= 10:\n",
    "        solMonth = str(month)    \n",
    "    else:\n",
    "        solMonth = '0'+str(month)\n",
    "    PARAMS = {'solYear':solYear, 'solMonth':solMonth}\n",
    "\n",
    "\n",
    "    request_query = get_request_query(URL, OPERATION, PARAMS, SERVICEKEY)\n",
    "    print('request_query:', request_query)\n",
    "    response = requests.get(url=request_query)\n",
    "    print('status_code:' + str(response.status_code))\n",
    "    \n",
    "    bsObj = BeautifulSoup(response.text, 'lxml')\n",
    "    datename = bsObj.find_all(\"datename\")\n",
    "    datename = bsObj.find_all(\"datename\")\n",
    "    datename = list(map(lambda x : x.get_text(),datename))\n",
    "    locdate = bsObj.find_all(\"locdate\")\n",
    "    locdate = list(map(lambda x : x.get_text(),locdate))\n",
    "    df = pd.DataFrame(zip(locdate,datename))\n",
    "    return(df)\n",
    "\n",
    "df = pd.DataFrame()\n",
    "for i in  range(2013,2020):\n",
    "    for j in range(1,13):\n",
    "        df=df.append(year_month(i,j) , ignore_index=True)\n",
    "\n",
    "df.rename(columns = {0: \"date\", 1:\"holiday\"},inplace=True)"
   ]
  },
  {
   "cell_type": "code",
   "execution_count": 3,
   "metadata": {
    "executionInfo": {
     "elapsed": 460,
     "status": "ok",
     "timestamp": 1638624542729,
     "user": {
      "displayName": "김가영",
      "photoUrl": "https://lh3.googleusercontent.com/a/default-user=s64",
      "userId": "16356263383297157000"
     },
     "user_tz": -540
    },
    "id": "lYqYQHDN6tx-"
   },
   "outputs": [],
   "source": [
    "df['date'] = df['date'].str[0:4]+'-'+ df['date'].str[4:6]+'-'+df['date'].str[6:8] # API날짜 연월일 형식 변경\n",
    "df = df[~df.date.str.contains(\"07-17\",na=False)].reset_index(drop=True) # 제헌절이 API데이타에 있어 삭제 \n",
    "df = df.drop_duplicates(['date'],keep='last') #2017/10/03 개천절이자 추석. 이런날 제거 \n",
    "df = df[:106] #train_public 날짜인 2019-03-31 전데이타만 자름 "
   ]
  },
  {
   "cell_type": "code",
   "execution_count": 4,
   "metadata": {
    "executionInfo": {
     "elapsed": 286,
     "status": "ok",
     "timestamp": 1638624640331,
     "user": {
      "displayName": "김가영",
      "photoUrl": "https://lh3.googleusercontent.com/a/default-user=s64",
      "userId": "16356263383297157000"
     },
     "user_tz": -540
    },
    "id": "nUFWhGAu-I2y"
   },
   "outputs": [],
   "source": [
    "df1 = df.assign(holi=np.nan)  # holi 빈칸열 만들기 (공휴일이름은 0,1로 바꾸기 위해 )"
   ]
  },
  {
   "cell_type": "code",
   "execution_count": 5,
   "metadata": {
    "executionInfo": {
     "elapsed": 278,
     "status": "ok",
     "timestamp": 1638624645829,
     "user": {
      "displayName": "김가영",
      "photoUrl": "https://lh3.googleusercontent.com/a/default-user=s64",
      "userId": "16356263383297157000"
     },
     "user_tz": -540
    },
    "id": "3sL91wrfDeWB"
   },
   "outputs": [
    {
     "data": {
      "text/html": [
       "<div>\n",
       "<style scoped>\n",
       "    .dataframe tbody tr th:only-of-type {\n",
       "        vertical-align: middle;\n",
       "    }\n",
       "\n",
       "    .dataframe tbody tr th {\n",
       "        vertical-align: top;\n",
       "    }\n",
       "\n",
       "    .dataframe thead th {\n",
       "        text-align: right;\n",
       "    }\n",
       "</style>\n",
       "<table border=\"1\" class=\"dataframe\">\n",
       "  <thead>\n",
       "    <tr style=\"text-align: right;\">\n",
       "      <th></th>\n",
       "      <th>date</th>\n",
       "      <th>holi</th>\n",
       "    </tr>\n",
       "  </thead>\n",
       "  <tbody>\n",
       "    <tr>\n",
       "      <th>0</th>\n",
       "      <td>2013-01-01</td>\n",
       "      <td>1.0</td>\n",
       "    </tr>\n",
       "    <tr>\n",
       "      <th>1</th>\n",
       "      <td>2013-02-09</td>\n",
       "      <td>1.0</td>\n",
       "    </tr>\n",
       "    <tr>\n",
       "      <th>2</th>\n",
       "      <td>2013-02-10</td>\n",
       "      <td>1.0</td>\n",
       "    </tr>\n",
       "    <tr>\n",
       "      <th>3</th>\n",
       "      <td>2013-02-11</td>\n",
       "      <td>1.0</td>\n",
       "    </tr>\n",
       "    <tr>\n",
       "      <th>4</th>\n",
       "      <td>2013-03-01</td>\n",
       "      <td>1.0</td>\n",
       "    </tr>\n",
       "    <tr>\n",
       "      <th>...</th>\n",
       "      <td>...</td>\n",
       "      <td>...</td>\n",
       "    </tr>\n",
       "    <tr>\n",
       "      <th>102</th>\n",
       "      <td>2019-01-01</td>\n",
       "      <td>1.0</td>\n",
       "    </tr>\n",
       "    <tr>\n",
       "      <th>103</th>\n",
       "      <td>2019-02-04</td>\n",
       "      <td>1.0</td>\n",
       "    </tr>\n",
       "    <tr>\n",
       "      <th>104</th>\n",
       "      <td>2019-02-05</td>\n",
       "      <td>1.0</td>\n",
       "    </tr>\n",
       "    <tr>\n",
       "      <th>105</th>\n",
       "      <td>2019-02-06</td>\n",
       "      <td>1.0</td>\n",
       "    </tr>\n",
       "    <tr>\n",
       "      <th>106</th>\n",
       "      <td>2019-03-01</td>\n",
       "      <td>1.0</td>\n",
       "    </tr>\n",
       "  </tbody>\n",
       "</table>\n",
       "<p>106 rows × 2 columns</p>\n",
       "</div>"
      ],
      "text/plain": [
       "           date  holi\n",
       "0    2013-01-01   1.0\n",
       "1    2013-02-09   1.0\n",
       "2    2013-02-10   1.0\n",
       "3    2013-02-11   1.0\n",
       "4    2013-03-01   1.0\n",
       "..          ...   ...\n",
       "102  2019-01-01   1.0\n",
       "103  2019-02-04   1.0\n",
       "104  2019-02-05   1.0\n",
       "105  2019-02-06   1.0\n",
       "106  2019-03-01   1.0\n",
       "\n",
       "[106 rows x 2 columns]"
      ]
     },
     "execution_count": 5,
     "metadata": {},
     "output_type": "execute_result"
    }
   ],
   "source": [
    "df1['holi'] = df1['holi'].fillna(1) #모두 1로 채우기 \n",
    "df1 = df1[['date','holi']] # date랑 holi열만 가져오기 \n",
    "df1"
   ]
  },
  {
   "cell_type": "code",
   "execution_count": 6,
   "metadata": {
    "executionInfo": {
     "elapsed": 280,
     "status": "ok",
     "timestamp": 1638624689649,
     "user": {
      "displayName": "김가영",
      "photoUrl": "https://lh3.googleusercontent.com/a/default-user=s64",
      "userId": "16356263383297157000"
     },
     "user_tz": -540
    },
    "id": "huPogdzZPnOc"
   },
   "outputs": [],
   "source": [
    "# 2013-2019까지 날짜 뽑아서 주말은 1로 만들기 \n",
    "date = pd.DataFrame(pd.date_range(start='2013-01-01', end='2019-03-31',  freq='D', name='date'))\n",
    "date['date'] = pd.to_datetime(date['date']) \n",
    "date['dayname'] = date['date'].dt.weekday # 월~일을 0~6으로 맵핑 "
   ]
  },
  {
   "cell_type": "code",
   "execution_count": 7,
   "metadata": {
    "executionInfo": {
     "elapsed": 279,
     "status": "ok",
     "timestamp": 1638624754098,
     "user": {
      "displayName": "김가영",
      "photoUrl": "https://lh3.googleusercontent.com/a/default-user=s64",
      "userId": "16356263383297157000"
     },
     "user_tz": -540
    },
    "id": "384ChBkK_g56"
   },
   "outputs": [],
   "source": [
    "date['dayname']= date['dayname'].replace({1:0,2:0, 3:0, 4:0, 5:1,6:1}) # 토,일만 1로 하고 나머지는 0으로 바꾸기 \n",
    "date['date']= date['date'].astype(str) \n",
    "df2 = pd.merge(date,df1,how='outer',on='date')  # 공휴일과 주말 데이타 merge \n",
    "df2 = df2.fillna(0)  # 공휴일을 뺀 나머지 날 0으로 바꾸기 "
   ]
  },
  {
   "cell_type": "code",
   "execution_count": 8,
   "metadata": {
    "colab": {
     "base_uri": "https://localhost:8080/",
     "height": 424
    },
    "executionInfo": {
     "elapsed": 283,
     "status": "ok",
     "timestamp": 1638624914616,
     "user": {
      "displayName": "김가영",
      "photoUrl": "https://lh3.googleusercontent.com/a/default-user=s64",
      "userId": "16356263383297157000"
     },
     "user_tz": -540
    },
    "id": "T6k4WrqMHG-2",
    "outputId": "69b07408-278c-4f6e-b440-71aa8a7a8c9a"
   },
   "outputs": [
    {
     "data": {
      "text/html": [
       "<div>\n",
       "<style scoped>\n",
       "    .dataframe tbody tr th:only-of-type {\n",
       "        vertical-align: middle;\n",
       "    }\n",
       "\n",
       "    .dataframe tbody tr th {\n",
       "        vertical-align: top;\n",
       "    }\n",
       "\n",
       "    .dataframe thead th {\n",
       "        text-align: right;\n",
       "    }\n",
       "</style>\n",
       "<table border=\"1\" class=\"dataframe\">\n",
       "  <thead>\n",
       "    <tr style=\"text-align: right;\">\n",
       "      <th></th>\n",
       "      <th>date</th>\n",
       "      <th>dayname</th>\n",
       "      <th>holi</th>\n",
       "    </tr>\n",
       "  </thead>\n",
       "  <tbody>\n",
       "    <tr>\n",
       "      <th>0</th>\n",
       "      <td>2013-01-01</td>\n",
       "      <td>0</td>\n",
       "      <td>1.0</td>\n",
       "    </tr>\n",
       "    <tr>\n",
       "      <th>1</th>\n",
       "      <td>2013-01-02</td>\n",
       "      <td>0</td>\n",
       "      <td>0.0</td>\n",
       "    </tr>\n",
       "    <tr>\n",
       "      <th>2</th>\n",
       "      <td>2013-01-03</td>\n",
       "      <td>0</td>\n",
       "      <td>0.0</td>\n",
       "    </tr>\n",
       "    <tr>\n",
       "      <th>3</th>\n",
       "      <td>2013-01-04</td>\n",
       "      <td>0</td>\n",
       "      <td>0.0</td>\n",
       "    </tr>\n",
       "    <tr>\n",
       "      <th>4</th>\n",
       "      <td>2013-01-05</td>\n",
       "      <td>1</td>\n",
       "      <td>0.0</td>\n",
       "    </tr>\n",
       "    <tr>\n",
       "      <th>...</th>\n",
       "      <td>...</td>\n",
       "      <td>...</td>\n",
       "      <td>...</td>\n",
       "    </tr>\n",
       "    <tr>\n",
       "      <th>2276</th>\n",
       "      <td>2019-03-27</td>\n",
       "      <td>0</td>\n",
       "      <td>0.0</td>\n",
       "    </tr>\n",
       "    <tr>\n",
       "      <th>2277</th>\n",
       "      <td>2019-03-28</td>\n",
       "      <td>0</td>\n",
       "      <td>0.0</td>\n",
       "    </tr>\n",
       "    <tr>\n",
       "      <th>2278</th>\n",
       "      <td>2019-03-29</td>\n",
       "      <td>0</td>\n",
       "      <td>0.0</td>\n",
       "    </tr>\n",
       "    <tr>\n",
       "      <th>2279</th>\n",
       "      <td>2019-03-30</td>\n",
       "      <td>1</td>\n",
       "      <td>0.0</td>\n",
       "    </tr>\n",
       "    <tr>\n",
       "      <th>2280</th>\n",
       "      <td>2019-03-31</td>\n",
       "      <td>1</td>\n",
       "      <td>0.0</td>\n",
       "    </tr>\n",
       "  </tbody>\n",
       "</table>\n",
       "<p>2281 rows × 3 columns</p>\n",
       "</div>"
      ],
      "text/plain": [
       "            date  dayname  holi\n",
       "0     2013-01-01        0   1.0\n",
       "1     2013-01-02        0   0.0\n",
       "2     2013-01-03        0   0.0\n",
       "3     2013-01-04        0   0.0\n",
       "4     2013-01-05        1   0.0\n",
       "...          ...      ...   ...\n",
       "2276  2019-03-27        0   0.0\n",
       "2277  2019-03-28        0   0.0\n",
       "2278  2019-03-29        0   0.0\n",
       "2279  2019-03-30        1   0.0\n",
       "2280  2019-03-31        1   0.0\n",
       "\n",
       "[2281 rows x 3 columns]"
      ]
     },
     "execution_count": 8,
     "metadata": {},
     "output_type": "execute_result"
    }
   ],
   "source": [
    "df2"
   ]
  },
  {
   "cell_type": "code",
   "execution_count": 9,
   "metadata": {
    "executionInfo": {
     "elapsed": 832,
     "status": "ok",
     "timestamp": 1638624858212,
     "user": {
      "displayName": "김가영",
      "photoUrl": "https://lh3.googleusercontent.com/a/default-user=s64",
      "userId": "16356263383297157000"
     },
     "user_tz": -540
    },
    "id": "BmsjHvvmPnOe"
   },
   "outputs": [],
   "source": [
    "df2.to_csv('./make_data/0A_holiday.csv',index=False) "
   ]
  },
  {
   "cell_type": "code",
   "execution_count": null,
   "metadata": {
    "id": "yEuz-4NjEx8_"
   },
   "outputs": [],
   "source": []
  }
 ],
 "metadata": {
  "colab": {
   "collapsed_sections": [],
   "name": "kogas_holiday_api.ipynb",
   "provenance": [
    {
     "file_id": "12zqo6K1Cv-QgrZ9CN-ENTUDf8WTITe0O",
     "timestamp": 1634381148507
    }
   ]
  },
  "kernelspec": {
   "display_name": "Python 3",
   "language": "python",
   "name": "python3"
  },
  "language_info": {
   "codemirror_mode": {
    "name": "ipython",
    "version": 3
   },
   "file_extension": ".py",
   "mimetype": "text/x-python",
   "name": "python",
   "nbconvert_exporter": "python",
   "pygments_lexer": "ipython3",
   "version": "3.8.3"
  }
 },
 "nbformat": 4,
 "nbformat_minor": 4
}
