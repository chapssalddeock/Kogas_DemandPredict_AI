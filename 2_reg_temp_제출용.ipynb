{
 "cells": [
  {
   "cell_type": "code",
   "execution_count": 8,
   "metadata": {},
   "outputs": [],
   "source": [
    "import datetime\n",
    "import pandas as pd\n",
    "import numpy as np\n",
    "import lightgbm as lgb\n",
    "from sklearn.metrics import mean_absolute_error \n",
    "import joblib\n",
    "import warnings\n",
    "warnings.filterwarnings('ignore')"
   ]
  },
  {
   "cell_type": "code",
   "execution_count": 9,
   "metadata": {},
   "outputs": [],
   "source": [
    "total = pd.read_csv('./make_data/0D_temp_1988_서울.csv')\n",
    "test = pd.read_csv('./make_data/1_final_test.csv')\n",
    "\n",
    "# 기상청 10일치 예보 데이터 \n",
    "weather_10 = pd.read_csv(\"./make_data/0D_weather_10_float.csv\")\n",
    "weather_10.columns=['일시','temp']"
   ]
  },
  {
   "cell_type": "code",
   "execution_count": 10,
   "metadata": {},
   "outputs": [],
   "source": [
    "total = total[(total.month==1)|(total.month==2)|(total.month==3)]\n",
    "train_years = [1991, 1992, 1993, 1997, 1998, 1999] \n",
    "val_years = [2018]\n",
    "\n",
    "train = total[total['year'].isin(train_years)]\n",
    "val = total[total['year'].isin(val_years)]\n",
    "\n",
    "features = ['lunMonth', 'lunDay', 'time', 'month']\n",
    "\n",
    "train_x = train[features]\n",
    "train_y = train['temp']\n",
    "val_x = val[features]\n",
    "val_y = val['temp']\n",
    "test_x = test[features] \n",
    "test_sample10_y = weather_10['temp']\n",
    "\n",
    "train_x = train_x.reset_index(drop=True)\n",
    "train_y = train_y.reset_index(drop=True)\n",
    "val_x = val_x.reset_index(drop=True)\n",
    "val_y = val_y.reset_index(drop=True)\n",
    "test_x = test_x.reset_index(drop=True)"
   ]
  },
  {
   "cell_type": "code",
   "execution_count": 11,
   "metadata": {},
   "outputs": [],
   "source": [
    "model_lgb = lgb.LGBMRegressor(objective='regression', \n",
    "                              learning_rate=0.17, max_depth = 11, \n",
    "                              n_estimators= 135, num_leaves=110)\n",
    "\n",
    "model_lgb.fit(train_x, train_y)\n",
    "\n",
    "#모델 저장\n",
    "joblib.dump(model_lgb, './models/temp_lgb_model.pkl')\n",
    "\n",
    "prediction = model_lgb.predict(test_x)\n",
    "test['temp']=prediction"
   ]
  },
  {
   "cell_type": "code",
   "execution_count": 12,
   "metadata": {},
   "outputs": [
    {
     "data": {
      "text/plain": [
       "2.244028252392504"
      ]
     },
     "execution_count": 12,
     "metadata": {},
     "output_type": "execute_result"
    }
   ],
   "source": [
    "pred_df = pd.DataFrame(test.loc[0:239, 'temp'])\n",
    "sample_df = pd.DataFrame(test_sample10_y)\n",
    "maes = mean_absolute_error(sample_df, pred_df)\n",
    "maes"
   ]
  },
  {
   "cell_type": "markdown",
   "metadata": {},
   "source": [
    "### testset에 기상청 10일치 예보 덮어쓰기"
   ]
  },
  {
   "cell_type": "code",
   "execution_count": 13,
   "metadata": {},
   "outputs": [],
   "source": [
    "forecast = weather_10['temp'][:240].to_numpy()\n",
    "for idx in range(7):\n",
    "            test.loc[0+(2160*idx):239+(2160*idx), 'temp'] = forecast"
   ]
  },
  {
   "cell_type": "code",
   "execution_count": 14,
   "metadata": {},
   "outputs": [],
   "source": [
    "test.to_csv('./make_data/2_final_test.csv',index=False)"
   ]
  },
  {
   "cell_type": "code",
   "execution_count": null,
   "metadata": {},
   "outputs": [],
   "source": []
  }
 ],
 "metadata": {
  "kernelspec": {
   "display_name": "Python 3",
   "language": "python",
   "name": "python3"
  },
  "language_info": {
   "codemirror_mode": {
    "name": "ipython",
    "version": 3
   },
   "file_extension": ".py",
   "mimetype": "text/x-python",
   "name": "python",
   "nbconvert_exporter": "python",
   "pygments_lexer": "ipython3",
   "version": "3.8.3"
  }
 },
 "nbformat": 4,
 "nbformat_minor": 4
}
