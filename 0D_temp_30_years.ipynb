{
 "cells": [
  {
   "cell_type": "code",
   "execution_count": 1,
   "metadata": {
    "id": "86f457d6"
   },
   "outputs": [],
   "source": [
    "import pandas as pd\n",
    "import numpy as np\n",
    "from glob import glob\n",
    "import warnings\n",
    "warnings.filterwarnings('ignore')\n",
    "import io\n",
    "from sklearn.metrics import mean_absolute_error"
   ]
  },
  {
   "cell_type": "markdown",
   "metadata": {
    "id": "ojm-uHJmFjQD"
   },
   "source": [
    "## 1. 기상청 단기예보+중기예보 가져와서 10일치 예보 만들기 "
   ]
  },
  {
   "cell_type": "code",
   "execution_count": 2,
   "metadata": {
    "id": "ZgIrGR7pnb48"
   },
   "outputs": [],
   "source": [
    "data_year_temperature = pd.read_csv('./data/청운효자동_3시간기온_201812_201812.csv')  # 3시간 기온데이타\n",
    "data_year = data_year_temperature[[' format: day', 'hour', 'forecast']]   # 하나의 데이타프레임에 기온데이타 만들기 \n",
    "data_year['Temperature'] = data_year_temperature[data_year_temperature.columns[-1]]  "
   ]
  },
  {
   "cell_type": "code",
   "execution_count": 3,
   "metadata": {
    "id": "OJxabh6PraPu"
   },
   "outputs": [],
   "source": [
    "year =data_year_temperature.columns[3][31:35]  # year는 2018\n",
    "month = data_year_temperature.columns[3][35:37] #month는 12\n",
    "\n",
    "date = f'{year}-{month}-' +data_year[' format: day'].astype(str).str.split(' ').str[-1] + ' ' + (data_year['hour'].astype(int)//100).astype(str) + ':00' # date에 년월일데이타 만들기 \n",
    "date = pd.to_datetime(date) + pd.DateOffset(hours=9) \n",
    "\n",
    "data_fcst = pd.DataFrame(columns=['Forecast time', 'forecast', 'Temperature'                       \n",
    "                                  ])   # DataFrame 만들어 \n",
    "data_fcst['Forecast time'] = date # date 채우기  \n",
    "data_fcst[['forecast', 'Temperature']] = data_year[['forecast', 'Temperature'                                                               \n",
    "                                                                 ]]\n",
    "\n",
    "# Forecast time에 forecast 시간 더해서 Forecast_time 만들기 \n",
    "fcst_data = data_fcst.copy() \n",
    "\n",
    "forecastchange=[]\n",
    "forecast = fcst_data['forecast'].tolist() \n",
    "forecastTime= fcst_data['Forecast time'].tolist()\n",
    "for f,t in zip(forecast,forecastTime):\n",
    "    forecastchange.append(t + pd.DateOffset(hours=f))     \n",
    "fcst_data['Forecast_time'] = forecastchange "
   ]
  },
  {
   "cell_type": "code",
   "execution_count": 4,
   "metadata": {
    "colab": {
     "base_uri": "https://localhost:8080/"
    },
    "executionInfo": {
     "elapsed": 3,
     "status": "ok",
     "timestamp": 1638688200134,
     "user": {
      "displayName": "김가영",
      "photoUrl": "https://lh3.googleusercontent.com/a/default-user=s64",
      "userId": "16356263383297157000"
     },
     "user_tz": -540
    },
    "id": "-15WWbFxemHt",
    "outputId": "9cc259f2-2bc1-42c3-8a6e-0e06ed119b72"
   },
   "outputs": [
    {
     "data": {
      "text/plain": [
       "Forecast time    0\n",
       "forecast         0\n",
       "Temperature      0\n",
       "Forecast_time    0\n",
       "dtype: int64"
      ]
     },
     "execution_count": 4,
     "metadata": {},
     "output_type": "execute_result"
    }
   ],
   "source": [
    "fcst_data.isnull().sum()"
   ]
  },
  {
   "cell_type": "code",
   "execution_count": 5,
   "metadata": {
    "colab": {
     "base_uri": "https://localhost:8080/",
     "height": 424
    },
    "executionInfo": {
     "elapsed": 4,
     "status": "ok",
     "timestamp": 1638688200459,
     "user": {
      "displayName": "김가영",
      "photoUrl": "https://lh3.googleusercontent.com/a/default-user=s64",
      "userId": "16356263383297157000"
     },
     "user_tz": -540
    },
    "id": "gLKQ4fDRuC1X",
    "outputId": "745f0503-35fa-44d7-deae-5c948d97084c"
   },
   "outputs": [
    {
     "data": {
      "text/html": [
       "<div>\n",
       "<style scoped>\n",
       "    .dataframe tbody tr th:only-of-type {\n",
       "        vertical-align: middle;\n",
       "    }\n",
       "\n",
       "    .dataframe tbody tr th {\n",
       "        vertical-align: top;\n",
       "    }\n",
       "\n",
       "    .dataframe thead th {\n",
       "        text-align: right;\n",
       "    }\n",
       "</style>\n",
       "<table border=\"1\" class=\"dataframe\">\n",
       "  <thead>\n",
       "    <tr style=\"text-align: right;\">\n",
       "      <th></th>\n",
       "      <th>Forecast_time</th>\n",
       "      <th>Temperature</th>\n",
       "    </tr>\n",
       "  </thead>\n",
       "  <tbody>\n",
       "    <tr>\n",
       "      <th>0</th>\n",
       "      <td>2018-12-01 15:00:00</td>\n",
       "      <td>11.0</td>\n",
       "    </tr>\n",
       "    <tr>\n",
       "      <th>1</th>\n",
       "      <td>2018-12-01 18:00:00</td>\n",
       "      <td>7.0</td>\n",
       "    </tr>\n",
       "    <tr>\n",
       "      <th>2</th>\n",
       "      <td>2018-12-01 21:00:00</td>\n",
       "      <td>7.0</td>\n",
       "    </tr>\n",
       "    <tr>\n",
       "      <th>3</th>\n",
       "      <td>2018-12-02 00:00:00</td>\n",
       "      <td>6.0</td>\n",
       "    </tr>\n",
       "    <tr>\n",
       "      <th>4</th>\n",
       "      <td>2018-12-02 03:00:00</td>\n",
       "      <td>4.0</td>\n",
       "    </tr>\n",
       "    <tr>\n",
       "      <th>...</th>\n",
       "      <td>...</td>\n",
       "      <td>...</td>\n",
       "    </tr>\n",
       "    <tr>\n",
       "      <th>263</th>\n",
       "      <td>2019-01-03 12:00:00</td>\n",
       "      <td>-1.0</td>\n",
       "    </tr>\n",
       "    <tr>\n",
       "      <th>264</th>\n",
       "      <td>2019-01-03 15:00:00</td>\n",
       "      <td>2.0</td>\n",
       "    </tr>\n",
       "    <tr>\n",
       "      <th>265</th>\n",
       "      <td>2019-01-03 18:00:00</td>\n",
       "      <td>-1.0</td>\n",
       "    </tr>\n",
       "    <tr>\n",
       "      <th>266</th>\n",
       "      <td>2019-01-03 21:00:00</td>\n",
       "      <td>-1.0</td>\n",
       "    </tr>\n",
       "    <tr>\n",
       "      <th>267</th>\n",
       "      <td>2019-01-04 00:00:00</td>\n",
       "      <td>-2.0</td>\n",
       "    </tr>\n",
       "  </tbody>\n",
       "</table>\n",
       "<p>268 rows × 2 columns</p>\n",
       "</div>"
      ],
      "text/plain": [
       "          Forecast_time  Temperature\n",
       "0   2018-12-01 15:00:00         11.0\n",
       "1   2018-12-01 18:00:00          7.0\n",
       "2   2018-12-01 21:00:00          7.0\n",
       "3   2018-12-02 00:00:00          6.0\n",
       "4   2018-12-02 03:00:00          4.0\n",
       "..                  ...          ...\n",
       "263 2019-01-03 12:00:00         -1.0\n",
       "264 2019-01-03 15:00:00          2.0\n",
       "265 2019-01-03 18:00:00         -1.0\n",
       "266 2019-01-03 21:00:00         -1.0\n",
       "267 2019-01-04 00:00:00         -2.0\n",
       "\n",
       "[268 rows x 2 columns]"
      ]
     },
     "execution_count": 5,
     "metadata": {},
     "output_type": "execute_result"
    }
   ],
   "source": [
    "# Forecast_time이 2019년인것만 가져오고 duplicated drop\n",
    "fcst_data = fcst_data[['Forecast_time','Temperature']]\n",
    "fcst_data = fcst_data.drop_duplicates(subset=['Forecast_time'], keep='last').reset_index(drop=True)\n",
    "fcst_data"
   ]
  },
  {
   "cell_type": "code",
   "execution_count": 6,
   "metadata": {
    "id": "xHxI6yi-5l7A"
   },
   "outputs": [],
   "source": [
    "#날짜 DataFrame만들기 \n",
    "date = pd.DataFrame(pd.date_range(start='2019-01-01', end='2019-01-04', freq='H', name='Forecast_time', closed='left'))"
   ]
  },
  {
   "cell_type": "code",
   "execution_count": 7,
   "metadata": {
    "id": "Eam4SW_FB5cx"
   },
   "outputs": [],
   "source": [
    "# fcst_data와 합쳐서 보간하기 \n",
    "fcst_data_ = pd.merge(fcst_data,date, how='outer', on='Forecast_time')\n",
    "fcst_data_ = fcst_data_.sort_values(by='Forecast_time').reset_index(drop=True)"
   ]
  },
  {
   "cell_type": "code",
   "execution_count": 8,
   "metadata": {
    "id": "z27_P6jDvI4F"
   },
   "outputs": [],
   "source": [
    "fcst_data__ = fcst_data_[243:].reset_index(drop=True) # 1월만 자르기 "
   ]
  },
  {
   "cell_type": "code",
   "execution_count": 9,
   "metadata": {
    "id": "r0wrcxIotxii"
   },
   "outputs": [],
   "source": [
    "fcst_data_inter = fcst_data__.interpolate()"
   ]
  },
  {
   "cell_type": "code",
   "execution_count": 10,
   "metadata": {
    "id": "25e31UOPD6ID"
   },
   "outputs": [],
   "source": [
    "# 중기예보 \n",
    "fcst_midterm = pd.read_csv('./data/FCT_MEDM_20211203165632.csv', encoding='CP949')\n",
    "fcst_midterm = fcst_midterm[(fcst_midterm['도시']=='서울') & (fcst_midterm['발표시각'].str.contains('2018-12-31 18시'))] # 서울/오후6시예보만 가져와서 \n",
    "#날짜 dataframe만들기 \n",
    "date2 = pd.DataFrame( pd.date_range(start='2019-01-03', end='2019-01-11', freq='H',name='Forecast_time' , closed='left'))"
   ]
  },
  {
   "cell_type": "code",
   "execution_count": 11,
   "metadata": {
    "id": "Htg48_cUHMet"
   },
   "outputs": [],
   "source": [
    "# 중기예보의 최저기온,최고기온 리스트로 만들어 date2 'Temperature' 열 ## 오전6시에 최저기온, 오후3시에 최고기온으로 채우기 (바꿔가며해봄)\n",
    "low = fcst_midterm['최저기온'].tolist()\n",
    "high = fcst_midterm['최고기온'].tolist()\n",
    "date2['Temperature']=np.NAN\n",
    "\n",
    "# 최저기온 채우기 \n",
    "for i,j in enumerate(low): \n",
    "    date2.loc[24*i+6,'Temperature'] = j \n",
    "\n",
    "#최고기온 채우기 \n",
    "for i,j in enumerate(high):\n",
    "    date2.loc[24*i+15,'Temperature'] = j \n",
    "\n",
    "date2 = date2.drop(date2.index[0:23],axis=0) # 1/3일은 단기예보와 겹치므로 drop "
   ]
  },
  {
   "cell_type": "code",
   "execution_count": 12,
   "metadata": {
    "colab": {
     "base_uri": "https://localhost:8080/",
     "height": 424
    },
    "executionInfo": {
     "elapsed": 5,
     "status": "ok",
     "timestamp": 1638688218392,
     "user": {
      "displayName": "김가영",
      "photoUrl": "https://lh3.googleusercontent.com/a/default-user=s64",
      "userId": "16356263383297157000"
     },
     "user_tz": -540
    },
    "id": "aBf_AlE5wDOy",
    "outputId": "5c1b0860-6818-4bc7-c047-a7a70b50e097"
   },
   "outputs": [
    {
     "data": {
      "text/html": [
       "<div>\n",
       "<style scoped>\n",
       "    .dataframe tbody tr th:only-of-type {\n",
       "        vertical-align: middle;\n",
       "    }\n",
       "\n",
       "    .dataframe tbody tr th {\n",
       "        vertical-align: top;\n",
       "    }\n",
       "\n",
       "    .dataframe thead th {\n",
       "        text-align: right;\n",
       "    }\n",
       "</style>\n",
       "<table border=\"1\" class=\"dataframe\">\n",
       "  <thead>\n",
       "    <tr style=\"text-align: right;\">\n",
       "      <th></th>\n",
       "      <th>Forecast_time</th>\n",
       "      <th>Temperature</th>\n",
       "    </tr>\n",
       "  </thead>\n",
       "  <tbody>\n",
       "    <tr>\n",
       "      <th>23</th>\n",
       "      <td>2019-01-03 23:00:00</td>\n",
       "      <td>NaN</td>\n",
       "    </tr>\n",
       "    <tr>\n",
       "      <th>24</th>\n",
       "      <td>2019-01-04 00:00:00</td>\n",
       "      <td>NaN</td>\n",
       "    </tr>\n",
       "    <tr>\n",
       "      <th>25</th>\n",
       "      <td>2019-01-04 01:00:00</td>\n",
       "      <td>NaN</td>\n",
       "    </tr>\n",
       "    <tr>\n",
       "      <th>26</th>\n",
       "      <td>2019-01-04 02:00:00</td>\n",
       "      <td>NaN</td>\n",
       "    </tr>\n",
       "    <tr>\n",
       "      <th>27</th>\n",
       "      <td>2019-01-04 03:00:00</td>\n",
       "      <td>NaN</td>\n",
       "    </tr>\n",
       "    <tr>\n",
       "      <th>...</th>\n",
       "      <td>...</td>\n",
       "      <td>...</td>\n",
       "    </tr>\n",
       "    <tr>\n",
       "      <th>187</th>\n",
       "      <td>2019-01-10 19:00:00</td>\n",
       "      <td>NaN</td>\n",
       "    </tr>\n",
       "    <tr>\n",
       "      <th>188</th>\n",
       "      <td>2019-01-10 20:00:00</td>\n",
       "      <td>NaN</td>\n",
       "    </tr>\n",
       "    <tr>\n",
       "      <th>189</th>\n",
       "      <td>2019-01-10 21:00:00</td>\n",
       "      <td>NaN</td>\n",
       "    </tr>\n",
       "    <tr>\n",
       "      <th>190</th>\n",
       "      <td>2019-01-10 22:00:00</td>\n",
       "      <td>NaN</td>\n",
       "    </tr>\n",
       "    <tr>\n",
       "      <th>191</th>\n",
       "      <td>2019-01-10 23:00:00</td>\n",
       "      <td>NaN</td>\n",
       "    </tr>\n",
       "  </tbody>\n",
       "</table>\n",
       "<p>169 rows × 2 columns</p>\n",
       "</div>"
      ],
      "text/plain": [
       "          Forecast_time  Temperature\n",
       "23  2019-01-03 23:00:00          NaN\n",
       "24  2019-01-04 00:00:00          NaN\n",
       "25  2019-01-04 01:00:00          NaN\n",
       "26  2019-01-04 02:00:00          NaN\n",
       "27  2019-01-04 03:00:00          NaN\n",
       "..                  ...          ...\n",
       "187 2019-01-10 19:00:00          NaN\n",
       "188 2019-01-10 20:00:00          NaN\n",
       "189 2019-01-10 21:00:00          NaN\n",
       "190 2019-01-10 22:00:00          NaN\n",
       "191 2019-01-10 23:00:00          NaN\n",
       "\n",
       "[169 rows x 2 columns]"
      ]
     },
     "execution_count": 12,
     "metadata": {},
     "output_type": "execute_result"
    }
   ],
   "source": [
    "date2"
   ]
  },
  {
   "cell_type": "code",
   "execution_count": 13,
   "metadata": {
    "id": "Tb31Qv6AM6Kf"
   },
   "outputs": [],
   "source": [
    "# 단기예보와 합쳐서 보간하기\n",
    "temp_for10 = pd.concat([fcst_data_inter,date2],axis=0)\n",
    "\n",
    "temp_for10['Temperature']= temp_for10['Temperature'].astype(float)\n",
    "temp_for10_inter = temp_for10.interpolate()\n",
    "temp_for10_inter = temp_for10_inter.drop_duplicates(subset=['Forecast_time'])"
   ]
  },
  {
   "cell_type": "code",
   "execution_count": 14,
   "metadata": {
    "id": "WhUXl21BXYcm"
   },
   "outputs": [],
   "source": [
    "temp_for10_inter.to_csv('./make_data/0D_weather_10_float.csv', index=False) # 단기예보 3일치+중기예보 7일치 합쳐서 10일 예보만듬. "
   ]
  },
  {
   "cell_type": "markdown",
   "metadata": {
    "id": "LgHPrB4rFuHM"
   },
   "source": [
    "##  2. 관측치 30년치에서 여러가지 평균내보고 10일 예보와 합쳐 관측치와 오차점수 보기 "
   ]
  },
  {
   "cell_type": "code",
   "execution_count": 15,
   "metadata": {
    "id": "zBsaiLFLsob0"
   },
   "outputs": [],
   "source": [
    "obs_data_path = './data/temp_30years' # 30년치 1988부터 \n",
    "obs_data_list = sorted(glob(obs_data_path+'/*.csv')) # 기상청 관측 (10년치)  "
   ]
  },
  {
   "cell_type": "code",
   "execution_count": 16,
   "metadata": {
    "colab": {
     "base_uri": "https://localhost:8080/"
    },
    "executionInfo": {
     "elapsed": 319,
     "status": "ok",
     "timestamp": 1638687405324,
     "user": {
      "displayName": "김가영",
      "photoUrl": "https://lh3.googleusercontent.com/a/default-user=s64",
      "userId": "16356263383297157000"
     },
     "user_tz": -540
    },
    "id": "LfNOdoO5tNTL",
    "outputId": "242ab5ae-9d69-47df-fa36-f8c333bdc133"
   },
   "outputs": [
    {
     "data": {
      "text/plain": [
       "['./data/temp_30years\\\\OBS_ASOS_TIM_20211201155755.csv',\n",
       " './data/temp_30years\\\\OBS_ASOS_TIM_20211201155924.csv',\n",
       " './data/temp_30years\\\\OBS_ASOS_TIM_20211201160002.csv',\n",
       " './data/temp_30years\\\\OBS_ASOS_TIM_20211201160050.csv',\n",
       " './data/temp_30years\\\\OBS_ASOS_TIM_20211201160116.csv',\n",
       " './data/temp_30years\\\\OBS_ASOS_TIM_20211201160157.csv',\n",
       " './data/temp_30years\\\\OBS_ASOS_TIM_20211201160232.csv',\n",
       " './data/temp_30years\\\\OBS_ASOS_TIM_20211201160252.csv',\n",
       " './data/temp_30years\\\\OBS_ASOS_TIM_20211201160312.csv',\n",
       " './data/temp_30years\\\\OBS_ASOS_TIM_20211201160608.csv',\n",
       " './data/temp_30years\\\\OBS_ASOS_TIM_20211201162736.csv',\n",
       " './data/temp_30years\\\\OBS_ASOS_TIM_20211202151116.csv',\n",
       " './data/temp_30years\\\\OBS_ASOS_TIM_20211202152120.csv',\n",
       " './data/temp_30years\\\\OBS_ASOS_TIM_20211202152141.csv',\n",
       " './data/temp_30years\\\\OBS_ASOS_TIM_20211202152806.csv',\n",
       " './data/temp_30years\\\\OBS_ASOS_TIM_20211202153932.csv',\n",
       " './data/temp_30years\\\\OBS_ASOS_TIM_20211202154001.csv',\n",
       " './data/temp_30years\\\\OBS_ASOS_TIM_20211202154035.csv',\n",
       " './data/temp_30years\\\\OBS_ASOS_TIM_20211202154052.csv',\n",
       " './data/temp_30years\\\\OBS_ASOS_TIM_20211202154116.csv',\n",
       " './data/temp_30years\\\\OBS_ASOS_TIM_20211202154135.csv',\n",
       " './data/temp_30years\\\\OBS_ASOS_TIM_20211202154150.csv',\n",
       " './data/temp_30years\\\\OBS_ASOS_TIM_20211202154206.csv',\n",
       " './data/temp_30years\\\\OBS_ASOS_TIM_20211202154223.csv',\n",
       " './data/temp_30years\\\\OBS_ASOS_TIM_20211202154238.csv',\n",
       " './data/temp_30years\\\\OBS_ASOS_TIM_20211202154254.csv',\n",
       " './data/temp_30years\\\\OBS_ASOS_TIM_20211202154309.csv',\n",
       " './data/temp_30years\\\\OBS_ASOS_TIM_20211202154333.csv',\n",
       " './data/temp_30years\\\\OBS_ASOS_TIM_20211202154350.csv',\n",
       " './data/temp_30years\\\\OBS_ASOS_TIM_20211202154410.csv',\n",
       " './data/temp_30years\\\\OBS_ASOS_TIM_20211202165149.csv']"
      ]
     },
     "execution_count": 16,
     "metadata": {},
     "output_type": "execute_result"
    }
   ],
   "source": [
    "obs_data_list #2008년부터 2018년까지 (음력날짜반영위해 11년) \n",
    "# 30년, 1988년부터 2018년까지 "
   ]
  },
  {
   "cell_type": "code",
   "execution_count": 17,
   "metadata": {
    "id": "FoVfc-P1sofG"
   },
   "outputs": [],
   "source": [
    "df_merge = pd.DataFrame() # 데이터 합치기 \n",
    "for idx,filename in enumerate(obs_data_list):\n",
    "    df = pd.read_csv(filename, encoding='CP949',usecols=['일시','기온(°C)'])\n",
    "    df_merge = df_merge.append(df,ignore_index=True)"
   ]
  },
  {
   "cell_type": "code",
   "execution_count": 18,
   "metadata": {
    "id": "AgD3D4rGvfk8"
   },
   "outputs": [],
   "source": [
    "df_merge = df_merge.sort_values('일시').reset_index(drop=True) "
   ]
  },
  {
   "cell_type": "code",
   "execution_count": 19,
   "metadata": {
    "colab": {
     "base_uri": "https://localhost:8080/"
    },
    "executionInfo": {
     "elapsed": 515,
     "status": "ok",
     "timestamp": 1638687418122,
     "user": {
      "displayName": "김가영",
      "photoUrl": "https://lh3.googleusercontent.com/a/default-user=s64",
      "userId": "16356263383297157000"
     },
     "user_tz": -540
    },
    "id": "PYoBmxUSw-_v",
    "outputId": "af924fd9-db8a-46dc-a6ea-a482fb4c2f7d"
   },
   "outputs": [
    {
     "name": "stdout",
     "output_type": "stream",
     "text": [
      "(271752, 1)\n"
     ]
    }
   ],
   "source": [
    "df_merge_date = pd.DataFrame(pd.date_range(start='1988-01-01', end='2019-01-01',freq = 'h',name='일시', closed='left')) #30년치 날짜 만들기  \n",
    "df_merge_date['일시'] = df_merge_date['일시'].astype(str).str[:16]\n",
    "print(df_merge_date.shape) "
   ]
  },
  {
   "cell_type": "code",
   "execution_count": 20,
   "metadata": {},
   "outputs": [
    {
     "data": {
      "text/html": [
       "<div>\n",
       "<style scoped>\n",
       "    .dataframe tbody tr th:only-of-type {\n",
       "        vertical-align: middle;\n",
       "    }\n",
       "\n",
       "    .dataframe tbody tr th {\n",
       "        vertical-align: top;\n",
       "    }\n",
       "\n",
       "    .dataframe thead th {\n",
       "        text-align: right;\n",
       "    }\n",
       "</style>\n",
       "<table border=\"1\" class=\"dataframe\">\n",
       "  <thead>\n",
       "    <tr style=\"text-align: right;\">\n",
       "      <th></th>\n",
       "      <th>일시</th>\n",
       "      <th>기온(°C)</th>\n",
       "    </tr>\n",
       "  </thead>\n",
       "  <tbody>\n",
       "    <tr>\n",
       "      <th>0</th>\n",
       "      <td>1988-01-01 00:00</td>\n",
       "      <td>-3.7</td>\n",
       "    </tr>\n",
       "    <tr>\n",
       "      <th>1</th>\n",
       "      <td>1988-01-01 01:00</td>\n",
       "      <td>NaN</td>\n",
       "    </tr>\n",
       "    <tr>\n",
       "      <th>2</th>\n",
       "      <td>1988-01-01 02:00</td>\n",
       "      <td>NaN</td>\n",
       "    </tr>\n",
       "    <tr>\n",
       "      <th>3</th>\n",
       "      <td>1988-01-01 03:00</td>\n",
       "      <td>-4.4</td>\n",
       "    </tr>\n",
       "    <tr>\n",
       "      <th>4</th>\n",
       "      <td>1988-01-01 04:00</td>\n",
       "      <td>NaN</td>\n",
       "    </tr>\n",
       "    <tr>\n",
       "      <th>...</th>\n",
       "      <td>...</td>\n",
       "      <td>...</td>\n",
       "    </tr>\n",
       "    <tr>\n",
       "      <th>271747</th>\n",
       "      <td>2018-12-31 19:00</td>\n",
       "      <td>-3.1</td>\n",
       "    </tr>\n",
       "    <tr>\n",
       "      <th>271748</th>\n",
       "      <td>2018-12-31 20:00</td>\n",
       "      <td>-3.7</td>\n",
       "    </tr>\n",
       "    <tr>\n",
       "      <th>271749</th>\n",
       "      <td>2018-12-31 21:00</td>\n",
       "      <td>-4.6</td>\n",
       "    </tr>\n",
       "    <tr>\n",
       "      <th>271750</th>\n",
       "      <td>2018-12-31 22:00</td>\n",
       "      <td>-5.4</td>\n",
       "    </tr>\n",
       "    <tr>\n",
       "      <th>271751</th>\n",
       "      <td>2018-12-31 23:00</td>\n",
       "      <td>-5.2</td>\n",
       "    </tr>\n",
       "  </tbody>\n",
       "</table>\n",
       "<p>271752 rows × 2 columns</p>\n",
       "</div>"
      ],
      "text/plain": [
       "                      일시  기온(°C)\n",
       "0       1988-01-01 00:00    -3.7\n",
       "1       1988-01-01 01:00     NaN\n",
       "2       1988-01-01 02:00     NaN\n",
       "3       1988-01-01 03:00    -4.4\n",
       "4       1988-01-01 04:00     NaN\n",
       "...                  ...     ...\n",
       "271747  2018-12-31 19:00    -3.1\n",
       "271748  2018-12-31 20:00    -3.7\n",
       "271749  2018-12-31 21:00    -4.6\n",
       "271750  2018-12-31 22:00    -5.4\n",
       "271751  2018-12-31 23:00    -5.2\n",
       "\n",
       "[271752 rows x 2 columns]"
      ]
     },
     "execution_count": 20,
     "metadata": {},
     "output_type": "execute_result"
    }
   ],
   "source": [
    "df_date = pd.merge(df_merge_date, df_merge,how='left',on='일시')\n",
    "df_date"
   ]
  },
  {
   "cell_type": "code",
   "execution_count": 21,
   "metadata": {
    "colab": {
     "base_uri": "https://localhost:8080/",
     "height": 424
    },
    "executionInfo": {
     "elapsed": 366,
     "status": "ok",
     "timestamp": 1638687421151,
     "user": {
      "displayName": "김가영",
      "photoUrl": "https://lh3.googleusercontent.com/a/default-user=s64",
      "userId": "16356263383297157000"
     },
     "user_tz": -540
    },
    "id": "PKE3OBot30CL",
    "outputId": "cdc5defc-77b8-4d32-c270-5e95055d9279"
   },
   "outputs": [
    {
     "data": {
      "text/html": [
       "<div>\n",
       "<style scoped>\n",
       "    .dataframe tbody tr th:only-of-type {\n",
       "        vertical-align: middle;\n",
       "    }\n",
       "\n",
       "    .dataframe tbody tr th {\n",
       "        vertical-align: top;\n",
       "    }\n",
       "\n",
       "    .dataframe thead th {\n",
       "        text-align: right;\n",
       "    }\n",
       "</style>\n",
       "<table border=\"1\" class=\"dataframe\">\n",
       "  <thead>\n",
       "    <tr style=\"text-align: right;\">\n",
       "      <th></th>\n",
       "      <th>date</th>\n",
       "      <th>temp</th>\n",
       "    </tr>\n",
       "  </thead>\n",
       "  <tbody>\n",
       "    <tr>\n",
       "      <th>0</th>\n",
       "      <td>2013-01-01 00:00</td>\n",
       "      <td>-8.3</td>\n",
       "    </tr>\n",
       "    <tr>\n",
       "      <th>1</th>\n",
       "      <td>2013-01-01 01:00</td>\n",
       "      <td>-8.5</td>\n",
       "    </tr>\n",
       "    <tr>\n",
       "      <th>2</th>\n",
       "      <td>2013-01-01 02:00</td>\n",
       "      <td>-8.4</td>\n",
       "    </tr>\n",
       "    <tr>\n",
       "      <th>3</th>\n",
       "      <td>2013-01-01 03:00</td>\n",
       "      <td>-8.1</td>\n",
       "    </tr>\n",
       "    <tr>\n",
       "      <th>4</th>\n",
       "      <td>2013-01-01 04:00</td>\n",
       "      <td>-8.2</td>\n",
       "    </tr>\n",
       "    <tr>\n",
       "      <th>...</th>\n",
       "      <td>...</td>\n",
       "      <td>...</td>\n",
       "    </tr>\n",
       "    <tr>\n",
       "      <th>52579</th>\n",
       "      <td>2018-12-31 19:00</td>\n",
       "      <td>-3.1</td>\n",
       "    </tr>\n",
       "    <tr>\n",
       "      <th>52580</th>\n",
       "      <td>2018-12-31 20:00</td>\n",
       "      <td>-3.7</td>\n",
       "    </tr>\n",
       "    <tr>\n",
       "      <th>52581</th>\n",
       "      <td>2018-12-31 21:00</td>\n",
       "      <td>-4.6</td>\n",
       "    </tr>\n",
       "    <tr>\n",
       "      <th>52582</th>\n",
       "      <td>2018-12-31 22:00</td>\n",
       "      <td>-5.4</td>\n",
       "    </tr>\n",
       "    <tr>\n",
       "      <th>52583</th>\n",
       "      <td>2018-12-31 23:00</td>\n",
       "      <td>-5.2</td>\n",
       "    </tr>\n",
       "  </tbody>\n",
       "</table>\n",
       "<p>52584 rows × 2 columns</p>\n",
       "</div>"
      ],
      "text/plain": [
       "                   date  temp\n",
       "0      2013-01-01 00:00  -8.3\n",
       "1      2013-01-01 01:00  -8.5\n",
       "2      2013-01-01 02:00  -8.4\n",
       "3      2013-01-01 03:00  -8.1\n",
       "4      2013-01-01 04:00  -8.2\n",
       "...                 ...   ...\n",
       "52579  2018-12-31 19:00  -3.1\n",
       "52580  2018-12-31 20:00  -3.7\n",
       "52581  2018-12-31 21:00  -4.6\n",
       "52582  2018-12-31 22:00  -5.4\n",
       "52583  2018-12-31 23:00  -5.2\n",
       "\n",
       "[52584 rows x 2 columns]"
      ]
     },
     "execution_count": 21,
     "metadata": {},
     "output_type": "execute_result"
    }
   ],
   "source": [
    "train_temp = df_date[219168:].reset_index(drop=True)\n",
    "train_temp.columns=['date','temp']\n",
    "train_temp"
   ]
  },
  {
   "cell_type": "code",
   "execution_count": 22,
   "metadata": {},
   "outputs": [
    {
     "data": {
      "text/plain": [
       "date    0\n",
       "temp    6\n",
       "dtype: int64"
      ]
     },
     "execution_count": 22,
     "metadata": {},
     "output_type": "execute_result"
    }
   ],
   "source": [
    "train_temp.isnull().sum()"
   ]
  },
  {
   "cell_type": "code",
   "execution_count": 23,
   "metadata": {},
   "outputs": [],
   "source": [
    "train_temp = train_temp.interpolate()"
   ]
  },
  {
   "cell_type": "code",
   "execution_count": 24,
   "metadata": {},
   "outputs": [],
   "source": [
    "train_temp.to_csv('./make_data/0D_train_temp_서울.csv',index=False) # 훈련데이터:사용 "
   ]
  },
  {
   "cell_type": "code",
   "execution_count": 25,
   "metadata": {
    "colab": {
     "base_uri": "https://localhost:8080/"
    },
    "executionInfo": {
     "elapsed": 1001,
     "status": "ok",
     "timestamp": 1638687705799,
     "user": {
      "displayName": "김가영",
      "photoUrl": "https://lh3.googleusercontent.com/a/default-user=s64",
      "userId": "16356263383297157000"
     },
     "user_tz": -540
    },
    "id": "09uKTcwg0orD",
    "outputId": "0741bfe9-db24-4cd3-d065-72be2080b3d6"
   },
   "outputs": [
    {
     "name": "stdout",
     "output_type": "stream",
     "text": [
      "                      일시  기온(°C)\n",
      "263361  1988-01-01 01:00     NaN\n",
      "263362  1988-01-01 02:00     NaN\n",
      "263363  1988-01-01 04:00     NaN\n",
      "263364  1988-01-01 05:00     NaN\n",
      "263365  1988-01-02 01:00     NaN\n",
      "...                  ...     ...\n",
      "271747  2017-09-26 17:00     NaN\n",
      "271748  2017-10-12 15:00     NaN\n",
      "271749  2017-10-12 16:00     NaN\n",
      "271750  2017-10-12 17:00     NaN\n",
      "271751  2018-11-29 18:00     NaN\n",
      "\n",
      "[8391 rows x 2 columns]\n"
     ]
    }
   ],
   "source": [
    "# 온도데이터와 날짜데이터 병합 하고 결측치 채우기 \n",
    "df_merged = pd.merge(df_merge, df_merge_date, how='outer', on='일시')\n",
    "print(df_merged[df_merged['기온(°C)'].isnull()]) #결측치 확인 8391개 \n",
    "df_merged = df_merged.sort_values('일시').reset_index(drop=True)  "
   ]
  },
  {
   "cell_type": "code",
   "execution_count": 26,
   "metadata": {
    "id": "P8uIt8xSYsNc"
   },
   "outputs": [],
   "source": [
    "df_merged = df_merged.interpolate() # 보간하기 "
   ]
  },
  {
   "cell_type": "code",
   "execution_count": 27,
   "metadata": {
    "id": "ic0OSK2p1lYD"
   },
   "outputs": [],
   "source": [
    "lunar_date = pd.read_csv('./make_data/0B_1988_음력날짜.csv')  ### 2019년 1/1~3/31일까지는 음력으로 11/26~2/25  "
   ]
  },
  {
   "cell_type": "code",
   "execution_count": 28,
   "metadata": {
    "colab": {
     "base_uri": "https://localhost:8080/",
     "height": 424
    },
    "executionInfo": {
     "elapsed": 317,
     "status": "ok",
     "timestamp": 1638688121057,
     "user": {
      "displayName": "김가영",
      "photoUrl": "https://lh3.googleusercontent.com/a/default-user=s64",
      "userId": "16356263383297157000"
     },
     "user_tz": -540
    },
    "id": "LeiX3t5JaFuU",
    "outputId": "2c499ab2-ccd1-4c26-969f-52376b365c43"
   },
   "outputs": [
    {
     "data": {
      "text/html": [
       "<div>\n",
       "<style scoped>\n",
       "    .dataframe tbody tr th:only-of-type {\n",
       "        vertical-align: middle;\n",
       "    }\n",
       "\n",
       "    .dataframe tbody tr th {\n",
       "        vertical-align: top;\n",
       "    }\n",
       "\n",
       "    .dataframe thead th {\n",
       "        text-align: right;\n",
       "    }\n",
       "</style>\n",
       "<table border=\"1\" class=\"dataframe\">\n",
       "  <thead>\n",
       "    <tr style=\"text-align: right;\">\n",
       "      <th></th>\n",
       "      <th>date</th>\n",
       "      <th>Year</th>\n",
       "      <th>Month</th>\n",
       "      <th>Day</th>\n",
       "      <th>lunYear</th>\n",
       "      <th>lunMonth</th>\n",
       "      <th>lunDay</th>\n",
       "    </tr>\n",
       "  </thead>\n",
       "  <tbody>\n",
       "    <tr>\n",
       "      <th>0</th>\n",
       "      <td>1988-10-01</td>\n",
       "      <td>1988</td>\n",
       "      <td>10</td>\n",
       "      <td>1</td>\n",
       "      <td>1988</td>\n",
       "      <td>8</td>\n",
       "      <td>21</td>\n",
       "    </tr>\n",
       "    <tr>\n",
       "      <th>1</th>\n",
       "      <td>1988-10-02</td>\n",
       "      <td>1988</td>\n",
       "      <td>10</td>\n",
       "      <td>2</td>\n",
       "      <td>1988</td>\n",
       "      <td>8</td>\n",
       "      <td>22</td>\n",
       "    </tr>\n",
       "    <tr>\n",
       "      <th>2</th>\n",
       "      <td>1988-10-03</td>\n",
       "      <td>1988</td>\n",
       "      <td>10</td>\n",
       "      <td>3</td>\n",
       "      <td>1988</td>\n",
       "      <td>8</td>\n",
       "      <td>23</td>\n",
       "    </tr>\n",
       "    <tr>\n",
       "      <th>3</th>\n",
       "      <td>1988-10-04</td>\n",
       "      <td>1988</td>\n",
       "      <td>10</td>\n",
       "      <td>4</td>\n",
       "      <td>1988</td>\n",
       "      <td>8</td>\n",
       "      <td>24</td>\n",
       "    </tr>\n",
       "    <tr>\n",
       "      <th>4</th>\n",
       "      <td>1988-10-05</td>\n",
       "      <td>1988</td>\n",
       "      <td>10</td>\n",
       "      <td>5</td>\n",
       "      <td>1988</td>\n",
       "      <td>8</td>\n",
       "      <td>25</td>\n",
       "    </tr>\n",
       "    <tr>\n",
       "      <th>...</th>\n",
       "      <td>...</td>\n",
       "      <td>...</td>\n",
       "      <td>...</td>\n",
       "      <td>...</td>\n",
       "      <td>...</td>\n",
       "      <td>...</td>\n",
       "      <td>...</td>\n",
       "    </tr>\n",
       "    <tr>\n",
       "      <th>11134</th>\n",
       "      <td>2019-03-27</td>\n",
       "      <td>2019</td>\n",
       "      <td>3</td>\n",
       "      <td>27</td>\n",
       "      <td>2019</td>\n",
       "      <td>2</td>\n",
       "      <td>21</td>\n",
       "    </tr>\n",
       "    <tr>\n",
       "      <th>11135</th>\n",
       "      <td>2019-03-28</td>\n",
       "      <td>2019</td>\n",
       "      <td>3</td>\n",
       "      <td>28</td>\n",
       "      <td>2019</td>\n",
       "      <td>2</td>\n",
       "      <td>22</td>\n",
       "    </tr>\n",
       "    <tr>\n",
       "      <th>11136</th>\n",
       "      <td>2019-03-29</td>\n",
       "      <td>2019</td>\n",
       "      <td>3</td>\n",
       "      <td>29</td>\n",
       "      <td>2019</td>\n",
       "      <td>2</td>\n",
       "      <td>23</td>\n",
       "    </tr>\n",
       "    <tr>\n",
       "      <th>11137</th>\n",
       "      <td>2019-03-30</td>\n",
       "      <td>2019</td>\n",
       "      <td>3</td>\n",
       "      <td>30</td>\n",
       "      <td>2019</td>\n",
       "      <td>2</td>\n",
       "      <td>24</td>\n",
       "    </tr>\n",
       "    <tr>\n",
       "      <th>11138</th>\n",
       "      <td>2019-03-31</td>\n",
       "      <td>2019</td>\n",
       "      <td>3</td>\n",
       "      <td>31</td>\n",
       "      <td>2019</td>\n",
       "      <td>2</td>\n",
       "      <td>25</td>\n",
       "    </tr>\n",
       "  </tbody>\n",
       "</table>\n",
       "<p>11139 rows × 7 columns</p>\n",
       "</div>"
      ],
      "text/plain": [
       "             date  Year  Month  Day  lunYear  lunMonth  lunDay\n",
       "0      1988-10-01  1988     10    1     1988         8      21\n",
       "1      1988-10-02  1988     10    2     1988         8      22\n",
       "2      1988-10-03  1988     10    3     1988         8      23\n",
       "3      1988-10-04  1988     10    4     1988         8      24\n",
       "4      1988-10-05  1988     10    5     1988         8      25\n",
       "...           ...   ...    ...  ...      ...       ...     ...\n",
       "11134  2019-03-27  2019      3   27     2019         2      21\n",
       "11135  2019-03-28  2019      3   28     2019         2      22\n",
       "11136  2019-03-29  2019      3   29     2019         2      23\n",
       "11137  2019-03-30  2019      3   30     2019         2      24\n",
       "11138  2019-03-31  2019      3   31     2019         2      25\n",
       "\n",
       "[11139 rows x 7 columns]"
      ]
     },
     "execution_count": 28,
     "metadata": {},
     "output_type": "execute_result"
    }
   ],
   "source": [
    "lunar_date"
   ]
  },
  {
   "cell_type": "code",
   "execution_count": 29,
   "metadata": {
    "id": "RjVf9mW0GhJl"
   },
   "outputs": [],
   "source": [
    "df_merged['date']= df_merged['일시'].str[:10] #10년 데이터에서 date날짜 만들기 \n",
    "df_merged_lunar = pd.merge(df_merged,lunar_date, how='inner', on='date') # 10년 기온데이터와 음력날짜 병합 \n",
    "df_merged_lunar = df_merged_lunar.sort_values('일시').reset_index(drop=True)\n",
    "df_merged_lunar['time'] = df_merged_lunar['일시'].str[11:13].astype(int)"
   ]
  },
  {
   "cell_type": "code",
   "execution_count": 30,
   "metadata": {
    "colab": {
     "base_uri": "https://localhost:8080/",
     "height": 424
    },
    "executionInfo": {
     "elapsed": 3,
     "status": "ok",
     "timestamp": 1638688122361,
     "user": {
      "displayName": "김가영",
      "photoUrl": "https://lh3.googleusercontent.com/a/default-user=s64",
      "userId": "16356263383297157000"
     },
     "user_tz": -540
    },
    "id": "ZD987-Y8Y5R1",
    "outputId": "e38e292b-d2be-4808-fa31-74a5c77fbbda"
   },
   "outputs": [
    {
     "data": {
      "text/html": [
       "<div>\n",
       "<style scoped>\n",
       "    .dataframe tbody tr th:only-of-type {\n",
       "        vertical-align: middle;\n",
       "    }\n",
       "\n",
       "    .dataframe tbody tr th {\n",
       "        vertical-align: top;\n",
       "    }\n",
       "\n",
       "    .dataframe thead th {\n",
       "        text-align: right;\n",
       "    }\n",
       "</style>\n",
       "<table border=\"1\" class=\"dataframe\">\n",
       "  <thead>\n",
       "    <tr style=\"text-align: right;\">\n",
       "      <th></th>\n",
       "      <th>일시</th>\n",
       "      <th>기온(°C)</th>\n",
       "      <th>date</th>\n",
       "      <th>Year</th>\n",
       "      <th>Month</th>\n",
       "      <th>Day</th>\n",
       "      <th>lunYear</th>\n",
       "      <th>lunMonth</th>\n",
       "      <th>lunDay</th>\n",
       "      <th>time</th>\n",
       "    </tr>\n",
       "  </thead>\n",
       "  <tbody>\n",
       "    <tr>\n",
       "      <th>0</th>\n",
       "      <td>1988-10-01 00:00</td>\n",
       "      <td>16.4</td>\n",
       "      <td>1988-10-01</td>\n",
       "      <td>1988</td>\n",
       "      <td>10</td>\n",
       "      <td>1</td>\n",
       "      <td>1988</td>\n",
       "      <td>8</td>\n",
       "      <td>21</td>\n",
       "      <td>0</td>\n",
       "    </tr>\n",
       "    <tr>\n",
       "      <th>1</th>\n",
       "      <td>1988-10-01 01:00</td>\n",
       "      <td>15.7</td>\n",
       "      <td>1988-10-01</td>\n",
       "      <td>1988</td>\n",
       "      <td>10</td>\n",
       "      <td>1</td>\n",
       "      <td>1988</td>\n",
       "      <td>8</td>\n",
       "      <td>21</td>\n",
       "      <td>1</td>\n",
       "    </tr>\n",
       "    <tr>\n",
       "      <th>2</th>\n",
       "      <td>1988-10-01 02:00</td>\n",
       "      <td>15.0</td>\n",
       "      <td>1988-10-01</td>\n",
       "      <td>1988</td>\n",
       "      <td>10</td>\n",
       "      <td>1</td>\n",
       "      <td>1988</td>\n",
       "      <td>8</td>\n",
       "      <td>21</td>\n",
       "      <td>2</td>\n",
       "    </tr>\n",
       "    <tr>\n",
       "      <th>3</th>\n",
       "      <td>1988-10-01 03:00</td>\n",
       "      <td>14.3</td>\n",
       "      <td>1988-10-01</td>\n",
       "      <td>1988</td>\n",
       "      <td>10</td>\n",
       "      <td>1</td>\n",
       "      <td>1988</td>\n",
       "      <td>8</td>\n",
       "      <td>21</td>\n",
       "      <td>3</td>\n",
       "    </tr>\n",
       "    <tr>\n",
       "      <th>4</th>\n",
       "      <td>1988-10-01 04:00</td>\n",
       "      <td>14.0</td>\n",
       "      <td>1988-10-01</td>\n",
       "      <td>1988</td>\n",
       "      <td>10</td>\n",
       "      <td>1</td>\n",
       "      <td>1988</td>\n",
       "      <td>8</td>\n",
       "      <td>21</td>\n",
       "      <td>4</td>\n",
       "    </tr>\n",
       "    <tr>\n",
       "      <th>...</th>\n",
       "      <td>...</td>\n",
       "      <td>...</td>\n",
       "      <td>...</td>\n",
       "      <td>...</td>\n",
       "      <td>...</td>\n",
       "      <td>...</td>\n",
       "      <td>...</td>\n",
       "      <td>...</td>\n",
       "      <td>...</td>\n",
       "      <td>...</td>\n",
       "    </tr>\n",
       "    <tr>\n",
       "      <th>265171</th>\n",
       "      <td>2018-12-31 19:00</td>\n",
       "      <td>-3.1</td>\n",
       "      <td>2018-12-31</td>\n",
       "      <td>2018</td>\n",
       "      <td>12</td>\n",
       "      <td>31</td>\n",
       "      <td>2018</td>\n",
       "      <td>11</td>\n",
       "      <td>25</td>\n",
       "      <td>19</td>\n",
       "    </tr>\n",
       "    <tr>\n",
       "      <th>265172</th>\n",
       "      <td>2018-12-31 20:00</td>\n",
       "      <td>-3.7</td>\n",
       "      <td>2018-12-31</td>\n",
       "      <td>2018</td>\n",
       "      <td>12</td>\n",
       "      <td>31</td>\n",
       "      <td>2018</td>\n",
       "      <td>11</td>\n",
       "      <td>25</td>\n",
       "      <td>20</td>\n",
       "    </tr>\n",
       "    <tr>\n",
       "      <th>265173</th>\n",
       "      <td>2018-12-31 21:00</td>\n",
       "      <td>-4.6</td>\n",
       "      <td>2018-12-31</td>\n",
       "      <td>2018</td>\n",
       "      <td>12</td>\n",
       "      <td>31</td>\n",
       "      <td>2018</td>\n",
       "      <td>11</td>\n",
       "      <td>25</td>\n",
       "      <td>21</td>\n",
       "    </tr>\n",
       "    <tr>\n",
       "      <th>265174</th>\n",
       "      <td>2018-12-31 22:00</td>\n",
       "      <td>-5.4</td>\n",
       "      <td>2018-12-31</td>\n",
       "      <td>2018</td>\n",
       "      <td>12</td>\n",
       "      <td>31</td>\n",
       "      <td>2018</td>\n",
       "      <td>11</td>\n",
       "      <td>25</td>\n",
       "      <td>22</td>\n",
       "    </tr>\n",
       "    <tr>\n",
       "      <th>265175</th>\n",
       "      <td>2018-12-31 23:00</td>\n",
       "      <td>-5.2</td>\n",
       "      <td>2018-12-31</td>\n",
       "      <td>2018</td>\n",
       "      <td>12</td>\n",
       "      <td>31</td>\n",
       "      <td>2018</td>\n",
       "      <td>11</td>\n",
       "      <td>25</td>\n",
       "      <td>23</td>\n",
       "    </tr>\n",
       "  </tbody>\n",
       "</table>\n",
       "<p>265176 rows × 10 columns</p>\n",
       "</div>"
      ],
      "text/plain": [
       "                      일시  기온(°C)        date  Year  Month  Day  lunYear  \\\n",
       "0       1988-10-01 00:00    16.4  1988-10-01  1988     10    1     1988   \n",
       "1       1988-10-01 01:00    15.7  1988-10-01  1988     10    1     1988   \n",
       "2       1988-10-01 02:00    15.0  1988-10-01  1988     10    1     1988   \n",
       "3       1988-10-01 03:00    14.3  1988-10-01  1988     10    1     1988   \n",
       "4       1988-10-01 04:00    14.0  1988-10-01  1988     10    1     1988   \n",
       "...                  ...     ...         ...   ...    ...  ...      ...   \n",
       "265171  2018-12-31 19:00    -3.1  2018-12-31  2018     12   31     2018   \n",
       "265172  2018-12-31 20:00    -3.7  2018-12-31  2018     12   31     2018   \n",
       "265173  2018-12-31 21:00    -4.6  2018-12-31  2018     12   31     2018   \n",
       "265174  2018-12-31 22:00    -5.4  2018-12-31  2018     12   31     2018   \n",
       "265175  2018-12-31 23:00    -5.2  2018-12-31  2018     12   31     2018   \n",
       "\n",
       "        lunMonth  lunDay  time  \n",
       "0              8      21     0  \n",
       "1              8      21     1  \n",
       "2              8      21     2  \n",
       "3              8      21     3  \n",
       "4              8      21     4  \n",
       "...          ...     ...   ...  \n",
       "265171        11      25    19  \n",
       "265172        11      25    20  \n",
       "265173        11      25    21  \n",
       "265174        11      25    22  \n",
       "265175        11      25    23  \n",
       "\n",
       "[265176 rows x 10 columns]"
      ]
     },
     "execution_count": 30,
     "metadata": {},
     "output_type": "execute_result"
    }
   ],
   "source": [
    "df_merged_lunar"
   ]
  },
  {
   "cell_type": "code",
   "execution_count": 31,
   "metadata": {},
   "outputs": [],
   "source": [
    "df_merged_lunar['date'] = pd.to_datetime(df_merged_lunar['date'], format='%Y-%m-%d')\n",
    "df_merged_lunar['time'] = df_merged_lunar['time']+1\n",
    "df_merged_lunar['temp'] = df_merged_lunar['기온(°C)']\n",
    "df_merged_lunar['year'] = df_merged_lunar['Year']\n",
    "df_merged_lunar['month'] = df_merged_lunar['Month']\n",
    "df_merged_lunar['day'] = df_merged_lunar['Day']\n",
    "df_merged_lunar['weekday'] = df_merged_lunar['date'].dt.weekday    \n",
    "\n",
    "columns = ['일시','date','time','temp','year','month','day','weekday','lunYear','lunMonth','lunDay']\n",
    "\n",
    "df_merged_lunar = df_merged_lunar[columns]"
   ]
  },
  {
   "cell_type": "code",
   "execution_count": 32,
   "metadata": {},
   "outputs": [
    {
     "data": {
      "text/html": [
       "<div>\n",
       "<style scoped>\n",
       "    .dataframe tbody tr th:only-of-type {\n",
       "        vertical-align: middle;\n",
       "    }\n",
       "\n",
       "    .dataframe tbody tr th {\n",
       "        vertical-align: top;\n",
       "    }\n",
       "\n",
       "    .dataframe thead th {\n",
       "        text-align: right;\n",
       "    }\n",
       "</style>\n",
       "<table border=\"1\" class=\"dataframe\">\n",
       "  <thead>\n",
       "    <tr style=\"text-align: right;\">\n",
       "      <th></th>\n",
       "      <th>일시</th>\n",
       "      <th>date</th>\n",
       "      <th>time</th>\n",
       "      <th>temp</th>\n",
       "      <th>year</th>\n",
       "      <th>month</th>\n",
       "      <th>day</th>\n",
       "      <th>weekday</th>\n",
       "      <th>lunYear</th>\n",
       "      <th>lunMonth</th>\n",
       "      <th>lunDay</th>\n",
       "    </tr>\n",
       "  </thead>\n",
       "  <tbody>\n",
       "    <tr>\n",
       "      <th>0</th>\n",
       "      <td>1988-10-01 00:00</td>\n",
       "      <td>1988-10-01</td>\n",
       "      <td>1</td>\n",
       "      <td>16.4</td>\n",
       "      <td>1988</td>\n",
       "      <td>10</td>\n",
       "      <td>1</td>\n",
       "      <td>5</td>\n",
       "      <td>1988</td>\n",
       "      <td>8</td>\n",
       "      <td>21</td>\n",
       "    </tr>\n",
       "    <tr>\n",
       "      <th>1</th>\n",
       "      <td>1988-10-01 01:00</td>\n",
       "      <td>1988-10-01</td>\n",
       "      <td>2</td>\n",
       "      <td>15.7</td>\n",
       "      <td>1988</td>\n",
       "      <td>10</td>\n",
       "      <td>1</td>\n",
       "      <td>5</td>\n",
       "      <td>1988</td>\n",
       "      <td>8</td>\n",
       "      <td>21</td>\n",
       "    </tr>\n",
       "    <tr>\n",
       "      <th>2</th>\n",
       "      <td>1988-10-01 02:00</td>\n",
       "      <td>1988-10-01</td>\n",
       "      <td>3</td>\n",
       "      <td>15.0</td>\n",
       "      <td>1988</td>\n",
       "      <td>10</td>\n",
       "      <td>1</td>\n",
       "      <td>5</td>\n",
       "      <td>1988</td>\n",
       "      <td>8</td>\n",
       "      <td>21</td>\n",
       "    </tr>\n",
       "    <tr>\n",
       "      <th>3</th>\n",
       "      <td>1988-10-01 03:00</td>\n",
       "      <td>1988-10-01</td>\n",
       "      <td>4</td>\n",
       "      <td>14.3</td>\n",
       "      <td>1988</td>\n",
       "      <td>10</td>\n",
       "      <td>1</td>\n",
       "      <td>5</td>\n",
       "      <td>1988</td>\n",
       "      <td>8</td>\n",
       "      <td>21</td>\n",
       "    </tr>\n",
       "    <tr>\n",
       "      <th>4</th>\n",
       "      <td>1988-10-01 04:00</td>\n",
       "      <td>1988-10-01</td>\n",
       "      <td>5</td>\n",
       "      <td>14.0</td>\n",
       "      <td>1988</td>\n",
       "      <td>10</td>\n",
       "      <td>1</td>\n",
       "      <td>5</td>\n",
       "      <td>1988</td>\n",
       "      <td>8</td>\n",
       "      <td>21</td>\n",
       "    </tr>\n",
       "    <tr>\n",
       "      <th>...</th>\n",
       "      <td>...</td>\n",
       "      <td>...</td>\n",
       "      <td>...</td>\n",
       "      <td>...</td>\n",
       "      <td>...</td>\n",
       "      <td>...</td>\n",
       "      <td>...</td>\n",
       "      <td>...</td>\n",
       "      <td>...</td>\n",
       "      <td>...</td>\n",
       "      <td>...</td>\n",
       "    </tr>\n",
       "    <tr>\n",
       "      <th>265171</th>\n",
       "      <td>2018-12-31 19:00</td>\n",
       "      <td>2018-12-31</td>\n",
       "      <td>20</td>\n",
       "      <td>-3.1</td>\n",
       "      <td>2018</td>\n",
       "      <td>12</td>\n",
       "      <td>31</td>\n",
       "      <td>0</td>\n",
       "      <td>2018</td>\n",
       "      <td>11</td>\n",
       "      <td>25</td>\n",
       "    </tr>\n",
       "    <tr>\n",
       "      <th>265172</th>\n",
       "      <td>2018-12-31 20:00</td>\n",
       "      <td>2018-12-31</td>\n",
       "      <td>21</td>\n",
       "      <td>-3.7</td>\n",
       "      <td>2018</td>\n",
       "      <td>12</td>\n",
       "      <td>31</td>\n",
       "      <td>0</td>\n",
       "      <td>2018</td>\n",
       "      <td>11</td>\n",
       "      <td>25</td>\n",
       "    </tr>\n",
       "    <tr>\n",
       "      <th>265173</th>\n",
       "      <td>2018-12-31 21:00</td>\n",
       "      <td>2018-12-31</td>\n",
       "      <td>22</td>\n",
       "      <td>-4.6</td>\n",
       "      <td>2018</td>\n",
       "      <td>12</td>\n",
       "      <td>31</td>\n",
       "      <td>0</td>\n",
       "      <td>2018</td>\n",
       "      <td>11</td>\n",
       "      <td>25</td>\n",
       "    </tr>\n",
       "    <tr>\n",
       "      <th>265174</th>\n",
       "      <td>2018-12-31 22:00</td>\n",
       "      <td>2018-12-31</td>\n",
       "      <td>23</td>\n",
       "      <td>-5.4</td>\n",
       "      <td>2018</td>\n",
       "      <td>12</td>\n",
       "      <td>31</td>\n",
       "      <td>0</td>\n",
       "      <td>2018</td>\n",
       "      <td>11</td>\n",
       "      <td>25</td>\n",
       "    </tr>\n",
       "    <tr>\n",
       "      <th>265175</th>\n",
       "      <td>2018-12-31 23:00</td>\n",
       "      <td>2018-12-31</td>\n",
       "      <td>24</td>\n",
       "      <td>-5.2</td>\n",
       "      <td>2018</td>\n",
       "      <td>12</td>\n",
       "      <td>31</td>\n",
       "      <td>0</td>\n",
       "      <td>2018</td>\n",
       "      <td>11</td>\n",
       "      <td>25</td>\n",
       "    </tr>\n",
       "  </tbody>\n",
       "</table>\n",
       "<p>265176 rows × 11 columns</p>\n",
       "</div>"
      ],
      "text/plain": [
       "                      일시       date  time  temp  year  month  day  weekday  \\\n",
       "0       1988-10-01 00:00 1988-10-01     1  16.4  1988     10    1        5   \n",
       "1       1988-10-01 01:00 1988-10-01     2  15.7  1988     10    1        5   \n",
       "2       1988-10-01 02:00 1988-10-01     3  15.0  1988     10    1        5   \n",
       "3       1988-10-01 03:00 1988-10-01     4  14.3  1988     10    1        5   \n",
       "4       1988-10-01 04:00 1988-10-01     5  14.0  1988     10    1        5   \n",
       "...                  ...        ...   ...   ...   ...    ...  ...      ...   \n",
       "265171  2018-12-31 19:00 2018-12-31    20  -3.1  2018     12   31        0   \n",
       "265172  2018-12-31 20:00 2018-12-31    21  -3.7  2018     12   31        0   \n",
       "265173  2018-12-31 21:00 2018-12-31    22  -4.6  2018     12   31        0   \n",
       "265174  2018-12-31 22:00 2018-12-31    23  -5.4  2018     12   31        0   \n",
       "265175  2018-12-31 23:00 2018-12-31    24  -5.2  2018     12   31        0   \n",
       "\n",
       "        lunYear  lunMonth  lunDay  \n",
       "0          1988         8      21  \n",
       "1          1988         8      21  \n",
       "2          1988         8      21  \n",
       "3          1988         8      21  \n",
       "4          1988         8      21  \n",
       "...         ...       ...     ...  \n",
       "265171     2018        11      25  \n",
       "265172     2018        11      25  \n",
       "265173     2018        11      25  \n",
       "265174     2018        11      25  \n",
       "265175     2018        11      25  \n",
       "\n",
       "[265176 rows x 11 columns]"
      ]
     },
     "execution_count": 32,
     "metadata": {},
     "output_type": "execute_result"
    }
   ],
   "source": [
    "df_merged_lunar"
   ]
  },
  {
   "cell_type": "code",
   "execution_count": 33,
   "metadata": {
    "id": "7dSbn-fed6Vl"
   },
   "outputs": [],
   "source": [
    "df_merged_lunar.to_csv('./make_data/0D_temp_1988_서울.csv', index=False)"
   ]
  }
 ],
 "metadata": {
  "colab": {
   "collapsed_sections": [],
   "name": "단기예보+중기예보_10년평균_서울_음력_30년_code.ipynb",
   "provenance": [
    {
     "file_id": "1bHeiD7VwXbOzkCnKpzQ-_BXqcXueNWig",
     "timestamp": 1638749092113
    },
    {
     "file_id": "1LFqWE1cIJEROby8VtaKbCFXtaNPp8Clc",
     "timestamp": 1638341025458
    },
    {
     "file_id": "1Cr5ovT-UHZaHwaEClhw6jDvGS85qRbK0",
     "timestamp": 1638193016580
    }
   ]
  },
  "kernelspec": {
   "display_name": "Python 3",
   "language": "python",
   "name": "python3"
  },
  "language_info": {
   "codemirror_mode": {
    "name": "ipython",
    "version": 3
   },
   "file_extension": ".py",
   "mimetype": "text/x-python",
   "name": "python",
   "nbconvert_exporter": "python",
   "pygments_lexer": "ipython3",
   "version": "3.8.3"
  }
 },
 "nbformat": 4,
 "nbformat_minor": 5
}
